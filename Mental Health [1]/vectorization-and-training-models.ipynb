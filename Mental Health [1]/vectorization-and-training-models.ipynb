{
 "cells": [
  {
   "cell_type": "code",
   "execution_count": 1,
   "id": "0e803221",
   "metadata": {
    "_cell_guid": "b1076dfc-b9ad-4769-8c92-a6c4dae69d19",
    "_uuid": "8f2839f25d086af736a60e9eeb907d3b93b6e0e5",
    "execution": {
     "iopub.execute_input": "2024-11-15T13:24:00.155999Z",
     "iopub.status.busy": "2024-11-15T13:24:00.155531Z",
     "iopub.status.idle": "2024-11-15T13:24:01.068284Z",
     "shell.execute_reply": "2024-11-15T13:24:01.067080Z"
    },
    "papermill": {
     "duration": 0.934582,
     "end_time": "2024-11-15T13:24:01.071239",
     "exception": false,
     "start_time": "2024-11-15T13:24:00.136657",
     "status": "completed"
    },
    "tags": []
   },
   "outputs": [
    {
     "name": "stdout",
     "output_type": "stream",
     "text": [
      "/kaggle/input/cleaned-dataset/cleaned_dataset.csv\n"
     ]
    }
   ],
   "source": [
    "# This Python 3 environment comes with many helpful analytics libraries installed\n",
    "# It is defined by the kaggle/python Docker image: https://github.com/kaggle/docker-python\n",
    "# For example, here's several helpful packages to load\n",
    "\n",
    "import numpy as np # linear algebra\n",
    "import pandas as pd # data processing, CSV file I/O (e.g. pd.read_csv)\n",
    "\n",
    "# Input data files are available in the read-only \"../input/\" directory\n",
    "# For example, running this (by clicking run or pressing Shift+Enter) will list all files under the input directory\n",
    "\n",
    "import os\n",
    "for dirname, _, filenames in os.walk('/kaggle/input'):\n",
    "    for filename in filenames:\n",
    "        print(os.path.join(dirname, filename))\n",
    "\n",
    "# You can write up to 20GB to the current directory (/kaggle/working/) that gets preserved as output when you create a version using \"Save & Run All\" \n",
    "# You can also write temporary files to /kaggle/temp/, but they won't be saved outside of the current session"
   ]
  },
  {
   "cell_type": "code",
   "execution_count": 2,
   "id": "3a5a8de2",
   "metadata": {
    "execution": {
     "iopub.execute_input": "2024-11-15T13:24:01.103465Z",
     "iopub.status.busy": "2024-11-15T13:24:01.102888Z",
     "iopub.status.idle": "2024-11-15T13:24:02.810675Z",
     "shell.execute_reply": "2024-11-15T13:24:02.809477Z"
    },
    "papermill": {
     "duration": 1.727887,
     "end_time": "2024-11-15T13:24:02.813551",
     "exception": false,
     "start_time": "2024-11-15T13:24:01.085664",
     "status": "completed"
    },
    "tags": []
   },
   "outputs": [],
   "source": [
    "import pandas as pd\n",
    "import numpy as np\n",
    "import matplotlib.pyplot as plt\n",
    "import seaborn as sns"
   ]
  },
  {
   "cell_type": "code",
   "execution_count": 3,
   "id": "a5ba8d1b",
   "metadata": {
    "execution": {
     "iopub.execute_input": "2024-11-15T13:24:02.844544Z",
     "iopub.status.busy": "2024-11-15T13:24:02.843915Z",
     "iopub.status.idle": "2024-11-15T13:24:03.361792Z",
     "shell.execute_reply": "2024-11-15T13:24:03.360483Z"
    },
    "papermill": {
     "duration": 0.536231,
     "end_time": "2024-11-15T13:24:03.364246",
     "exception": false,
     "start_time": "2024-11-15T13:24:02.828015",
     "status": "completed"
    },
    "tags": []
   },
   "outputs": [
    {
     "data": {
      "text/html": [
       "<div>\n",
       "<style scoped>\n",
       "    .dataframe tbody tr th:only-of-type {\n",
       "        vertical-align: middle;\n",
       "    }\n",
       "\n",
       "    .dataframe tbody tr th {\n",
       "        vertical-align: top;\n",
       "    }\n",
       "\n",
       "    .dataframe thead th {\n",
       "        text-align: right;\n",
       "    }\n",
       "</style>\n",
       "<table border=\"1\" class=\"dataframe\">\n",
       "  <thead>\n",
       "    <tr style=\"text-align: right;\">\n",
       "      <th></th>\n",
       "      <th>status</th>\n",
       "      <th>cleaned_statement</th>\n",
       "      <th>num_of_characters</th>\n",
       "      <th>num_of_sentences</th>\n",
       "    </tr>\n",
       "  </thead>\n",
       "  <tbody>\n",
       "    <tr>\n",
       "      <th>0</th>\n",
       "      <td>anxiety</td>\n",
       "      <td>oh gosh</td>\n",
       "      <td>10</td>\n",
       "      <td>1</td>\n",
       "    </tr>\n",
       "    <tr>\n",
       "      <th>1</th>\n",
       "      <td>anxiety</td>\n",
       "      <td>trouble sleep confuse mind restless heart tune</td>\n",
       "      <td>64</td>\n",
       "      <td>2</td>\n",
       "    </tr>\n",
       "    <tr>\n",
       "      <th>2</th>\n",
       "      <td>anxiety</td>\n",
       "      <td>wrong back dear forward doubt stay restless re...</td>\n",
       "      <td>78</td>\n",
       "      <td>2</td>\n",
       "    </tr>\n",
       "    <tr>\n",
       "      <th>3</th>\n",
       "      <td>anxiety</td>\n",
       "      <td>shift focus something else still worried</td>\n",
       "      <td>61</td>\n",
       "      <td>1</td>\n",
       "    </tr>\n",
       "    <tr>\n",
       "      <th>4</th>\n",
       "      <td>anxiety</td>\n",
       "      <td>restless restless month boy mean</td>\n",
       "      <td>72</td>\n",
       "      <td>2</td>\n",
       "    </tr>\n",
       "  </tbody>\n",
       "</table>\n",
       "</div>"
      ],
      "text/plain": [
       "    status                                  cleaned_statement  \\\n",
       "0  anxiety                                            oh gosh   \n",
       "1  anxiety     trouble sleep confuse mind restless heart tune   \n",
       "2  anxiety  wrong back dear forward doubt stay restless re...   \n",
       "3  anxiety           shift focus something else still worried   \n",
       "4  anxiety                   restless restless month boy mean   \n",
       "\n",
       "   num_of_characters  num_of_sentences  \n",
       "0                 10                 1  \n",
       "1                 64                 2  \n",
       "2                 78                 2  \n",
       "3                 61                 1  \n",
       "4                 72                 2  "
      ]
     },
     "execution_count": 3,
     "metadata": {},
     "output_type": "execute_result"
    }
   ],
   "source": [
    "cleaned_df=pd.read_csv(\"/kaggle/input/cleaned-dataset/cleaned_dataset.csv\")\n",
    "cleaned_df.head()"
   ]
  },
  {
   "cell_type": "code",
   "execution_count": 4,
   "id": "a524ff99",
   "metadata": {
    "execution": {
     "iopub.execute_input": "2024-11-15T13:24:03.396084Z",
     "iopub.status.busy": "2024-11-15T13:24:03.394761Z",
     "iopub.status.idle": "2024-11-15T13:24:03.419614Z",
     "shell.execute_reply": "2024-11-15T13:24:03.418591Z"
    },
    "papermill": {
     "duration": 0.043193,
     "end_time": "2024-11-15T13:24:03.422036",
     "exception": false,
     "start_time": "2024-11-15T13:24:03.378843",
     "status": "completed"
    },
    "tags": []
   },
   "outputs": [
    {
     "data": {
      "text/plain": [
       "status                 0\n",
       "cleaned_statement    169\n",
       "num_of_characters      0\n",
       "num_of_sentences       0\n",
       "dtype: int64"
      ]
     },
     "execution_count": 4,
     "metadata": {},
     "output_type": "execute_result"
    }
   ],
   "source": [
    "cleaned_df.isnull().sum()"
   ]
  },
  {
   "cell_type": "code",
   "execution_count": 5,
   "id": "e0a1e210",
   "metadata": {
    "execution": {
     "iopub.execute_input": "2024-11-15T13:24:03.454061Z",
     "iopub.status.busy": "2024-11-15T13:24:03.453174Z",
     "iopub.status.idle": "2024-11-15T13:24:03.477077Z",
     "shell.execute_reply": "2024-11-15T13:24:03.475853Z"
    },
    "papermill": {
     "duration": 0.043618,
     "end_time": "2024-11-15T13:24:03.480136",
     "exception": false,
     "start_time": "2024-11-15T13:24:03.436518",
     "status": "completed"
    },
    "tags": []
   },
   "outputs": [],
   "source": [
    "cleaned_df.drop(cleaned_df[cleaned_df['cleaned_statement'].isnull()==True].index,axis=0,inplace=True)"
   ]
  },
  {
   "cell_type": "code",
   "execution_count": 6,
   "id": "30549bec",
   "metadata": {
    "execution": {
     "iopub.execute_input": "2024-11-15T13:24:03.511940Z",
     "iopub.status.busy": "2024-11-15T13:24:03.511469Z",
     "iopub.status.idle": "2024-11-15T13:24:03.534235Z",
     "shell.execute_reply": "2024-11-15T13:24:03.533066Z"
    },
    "papermill": {
     "duration": 0.041415,
     "end_time": "2024-11-15T13:24:03.536852",
     "exception": false,
     "start_time": "2024-11-15T13:24:03.495437",
     "status": "completed"
    },
    "tags": []
   },
   "outputs": [
    {
     "data": {
      "text/plain": [
       "status               0\n",
       "cleaned_statement    0\n",
       "num_of_characters    0\n",
       "num_of_sentences     0\n",
       "dtype: int64"
      ]
     },
     "execution_count": 6,
     "metadata": {},
     "output_type": "execute_result"
    }
   ],
   "source": [
    "cleaned_df.isnull().sum()"
   ]
  },
  {
   "cell_type": "code",
   "execution_count": 7,
   "id": "1d9aa3cf",
   "metadata": {
    "execution": {
     "iopub.execute_input": "2024-11-15T13:24:03.568542Z",
     "iopub.status.busy": "2024-11-15T13:24:03.568099Z",
     "iopub.status.idle": "2024-11-15T13:24:03.748389Z",
     "shell.execute_reply": "2024-11-15T13:24:03.747103Z"
    },
    "papermill": {
     "duration": 0.199391,
     "end_time": "2024-11-15T13:24:03.751048",
     "exception": false,
     "start_time": "2024-11-15T13:24:03.551657",
     "status": "completed"
    },
    "tags": []
   },
   "outputs": [
    {
     "name": "stdout",
     "output_type": "stream",
     "text": [
      "Label Mapping: {'anxiety': 0, 'bipolar': 1, 'depression': 2, 'normal': 3, 'personality disorder': 4, 'stress': 5, 'suicidal': 6}\n"
     ]
    }
   ],
   "source": [
    "from sklearn.preprocessing import LabelEncoder\n",
    "\n",
    "# Initialize LabelEncoder\n",
    "lbl_enc = LabelEncoder()\n",
    "\n",
    "# Fit and transform labels\n",
    "cleaned_df['status_encoded'] = lbl_enc.fit_transform(cleaned_df['status'])\n",
    "\n",
    "# View encoded labels\n",
    "#print(\"Encoded Labels:\", cleaned_df['status_encoded'])\n",
    "\n",
    "# View label mapping\n",
    "label_mapping = dict(zip(lbl_enc.classes_, range(len(lbl_enc.classes_))))\n",
    "print(\"Label Mapping:\", label_mapping)"
   ]
  },
  {
   "cell_type": "code",
   "execution_count": 8,
   "id": "af1166b1",
   "metadata": {
    "execution": {
     "iopub.execute_input": "2024-11-15T13:24:03.782899Z",
     "iopub.status.busy": "2024-11-15T13:24:03.781936Z",
     "iopub.status.idle": "2024-11-15T13:24:03.797515Z",
     "shell.execute_reply": "2024-11-15T13:24:03.796376Z"
    },
    "papermill": {
     "duration": 0.034015,
     "end_time": "2024-11-15T13:24:03.799881",
     "exception": false,
     "start_time": "2024-11-15T13:24:03.765866",
     "status": "completed"
    },
    "tags": []
   },
   "outputs": [
    {
     "data": {
      "text/html": [
       "<div>\n",
       "<style scoped>\n",
       "    .dataframe tbody tr th:only-of-type {\n",
       "        vertical-align: middle;\n",
       "    }\n",
       "\n",
       "    .dataframe tbody tr th {\n",
       "        vertical-align: top;\n",
       "    }\n",
       "\n",
       "    .dataframe thead th {\n",
       "        text-align: right;\n",
       "    }\n",
       "</style>\n",
       "<table border=\"1\" class=\"dataframe\">\n",
       "  <thead>\n",
       "    <tr style=\"text-align: right;\">\n",
       "      <th></th>\n",
       "      <th>status</th>\n",
       "      <th>cleaned_statement</th>\n",
       "      <th>num_of_characters</th>\n",
       "      <th>num_of_sentences</th>\n",
       "      <th>status_encoded</th>\n",
       "    </tr>\n",
       "  </thead>\n",
       "  <tbody>\n",
       "    <tr>\n",
       "      <th>0</th>\n",
       "      <td>anxiety</td>\n",
       "      <td>oh gosh</td>\n",
       "      <td>10</td>\n",
       "      <td>1</td>\n",
       "      <td>0</td>\n",
       "    </tr>\n",
       "    <tr>\n",
       "      <th>1</th>\n",
       "      <td>anxiety</td>\n",
       "      <td>trouble sleep confuse mind restless heart tune</td>\n",
       "      <td>64</td>\n",
       "      <td>2</td>\n",
       "      <td>0</td>\n",
       "    </tr>\n",
       "    <tr>\n",
       "      <th>2</th>\n",
       "      <td>anxiety</td>\n",
       "      <td>wrong back dear forward doubt stay restless re...</td>\n",
       "      <td>78</td>\n",
       "      <td>2</td>\n",
       "      <td>0</td>\n",
       "    </tr>\n",
       "    <tr>\n",
       "      <th>3</th>\n",
       "      <td>anxiety</td>\n",
       "      <td>shift focus something else still worried</td>\n",
       "      <td>61</td>\n",
       "      <td>1</td>\n",
       "      <td>0</td>\n",
       "    </tr>\n",
       "    <tr>\n",
       "      <th>4</th>\n",
       "      <td>anxiety</td>\n",
       "      <td>restless restless month boy mean</td>\n",
       "      <td>72</td>\n",
       "      <td>2</td>\n",
       "      <td>0</td>\n",
       "    </tr>\n",
       "    <tr>\n",
       "      <th>...</th>\n",
       "      <td>...</td>\n",
       "      <td>...</td>\n",
       "      <td>...</td>\n",
       "      <td>...</td>\n",
       "      <td>...</td>\n",
       "    </tr>\n",
       "    <tr>\n",
       "      <th>52676</th>\n",
       "      <td>anxiety</td>\n",
       "      <td>nobody take seriously dealt depressionanxiety ...</td>\n",
       "      <td>1766</td>\n",
       "      <td>16</td>\n",
       "      <td>0</td>\n",
       "    </tr>\n",
       "    <tr>\n",
       "      <th>52677</th>\n",
       "      <td>anxiety</td>\n",
       "      <td>selfishness feel good like belong world think ...</td>\n",
       "      <td>1012</td>\n",
       "      <td>11</td>\n",
       "      <td>0</td>\n",
       "    </tr>\n",
       "    <tr>\n",
       "      <th>52678</th>\n",
       "      <td>anxiety</td>\n",
       "      <td>way sleep good sleep night med help</td>\n",
       "      <td>85</td>\n",
       "      <td>2</td>\n",
       "      <td>0</td>\n",
       "    </tr>\n",
       "    <tr>\n",
       "      <th>52679</th>\n",
       "      <td>anxiety</td>\n",
       "      <td>public speak tip hi give presentation work nex...</td>\n",
       "      <td>401</td>\n",
       "      <td>6</td>\n",
       "      <td>0</td>\n",
       "    </tr>\n",
       "    <tr>\n",
       "      <th>52680</th>\n",
       "      <td>anxiety</td>\n",
       "      <td>really bad door anxiety scar lock door somethi...</td>\n",
       "      <td>417</td>\n",
       "      <td>3</td>\n",
       "      <td>0</td>\n",
       "    </tr>\n",
       "  </tbody>\n",
       "</table>\n",
       "<p>52512 rows × 5 columns</p>\n",
       "</div>"
      ],
      "text/plain": [
       "        status                                  cleaned_statement  \\\n",
       "0      anxiety                                            oh gosh   \n",
       "1      anxiety     trouble sleep confuse mind restless heart tune   \n",
       "2      anxiety  wrong back dear forward doubt stay restless re...   \n",
       "3      anxiety           shift focus something else still worried   \n",
       "4      anxiety                   restless restless month boy mean   \n",
       "...        ...                                                ...   \n",
       "52676  anxiety  nobody take seriously dealt depressionanxiety ...   \n",
       "52677  anxiety  selfishness feel good like belong world think ...   \n",
       "52678  anxiety                way sleep good sleep night med help   \n",
       "52679  anxiety  public speak tip hi give presentation work nex...   \n",
       "52680  anxiety  really bad door anxiety scar lock door somethi...   \n",
       "\n",
       "       num_of_characters  num_of_sentences  status_encoded  \n",
       "0                     10                 1               0  \n",
       "1                     64                 2               0  \n",
       "2                     78                 2               0  \n",
       "3                     61                 1               0  \n",
       "4                     72                 2               0  \n",
       "...                  ...               ...             ...  \n",
       "52676               1766                16               0  \n",
       "52677               1012                11               0  \n",
       "52678                 85                 2               0  \n",
       "52679                401                 6               0  \n",
       "52680                417                 3               0  \n",
       "\n",
       "[52512 rows x 5 columns]"
      ]
     },
     "execution_count": 8,
     "metadata": {},
     "output_type": "execute_result"
    }
   ],
   "source": [
    "cleaned_df"
   ]
  },
  {
   "cell_type": "code",
   "execution_count": null,
   "id": "9a3ec584",
   "metadata": {
    "papermill": {
     "duration": 0.015399,
     "end_time": "2024-11-15T13:24:03.830502",
     "exception": false,
     "start_time": "2024-11-15T13:24:03.815103",
     "status": "completed"
    },
    "tags": []
   },
   "outputs": [],
   "source": []
  },
  {
   "cell_type": "code",
   "execution_count": 9,
   "id": "aa0e14f6",
   "metadata": {
    "execution": {
     "iopub.execute_input": "2024-11-15T13:24:03.862605Z",
     "iopub.status.busy": "2024-11-15T13:24:03.862131Z",
     "iopub.status.idle": "2024-11-15T13:24:03.949757Z",
     "shell.execute_reply": "2024-11-15T13:24:03.948506Z"
    },
    "papermill": {
     "duration": 0.10713,
     "end_time": "2024-11-15T13:24:03.952740",
     "exception": false,
     "start_time": "2024-11-15T13:24:03.845610",
     "status": "completed"
    },
    "tags": []
   },
   "outputs": [],
   "source": [
    "anxiety_df=cleaned_df[cleaned_df['status']=='anxiety']\n",
    "normal_df=cleaned_df[cleaned_df['status']=='normal']\n",
    "depression_df=cleaned_df[cleaned_df['status']=='depression']\n",
    "suicidal_df=cleaned_df[cleaned_df['status']=='suicidal']\n",
    "stress_df=cleaned_df[cleaned_df['status']=='stress']\n",
    "bipolar_df=cleaned_df[cleaned_df['status']=='bipolar']\n",
    "personality_disorder_df=cleaned_df[cleaned_df['status']=='personality disorder']"
   ]
  },
  {
   "cell_type": "code",
   "execution_count": 10,
   "id": "edd4cb69",
   "metadata": {
    "execution": {
     "iopub.execute_input": "2024-11-15T13:24:03.985514Z",
     "iopub.status.busy": "2024-11-15T13:24:03.985055Z",
     "iopub.status.idle": "2024-11-15T13:24:04.013012Z",
     "shell.execute_reply": "2024-11-15T13:24:04.011385Z"
    },
    "papermill": {
     "duration": 0.047657,
     "end_time": "2024-11-15T13:24:04.015905",
     "exception": false,
     "start_time": "2024-11-15T13:24:03.968248",
     "status": "completed"
    },
    "tags": []
   },
   "outputs": [
    {
     "name": "stdout",
     "output_type": "stream",
     "text": [
      "status\n",
      "anxiety    3841\n",
      "Name: count, dtype: int64\n",
      "---------------------------------\n",
      "status\n",
      "normal    16178\n",
      "Name: count, dtype: int64\n",
      "---------------------------------\n",
      "status\n",
      "depression    15403\n",
      "Name: count, dtype: int64\n",
      "---------------------------------\n",
      "status\n",
      "suicidal    10649\n",
      "Name: count, dtype: int64\n",
      "---------------------------------\n",
      "status\n",
      "stress    2587\n",
      "Name: count, dtype: int64\n",
      "---------------------------------\n",
      "status\n",
      "bipolar    2777\n",
      "Name: count, dtype: int64\n",
      "---------------------------------\n",
      "status\n",
      "personality disorder    1077\n",
      "Name: count, dtype: int64\n"
     ]
    }
   ],
   "source": [
    "print(anxiety_df['status'].value_counts())\n",
    "print(\"---------------------------------\")\n",
    "print(normal_df['status'].value_counts())\n",
    "print(\"---------------------------------\")\n",
    "print(depression_df['status'].value_counts())\n",
    "print(\"---------------------------------\")\n",
    "print(suicidal_df['status'].value_counts())\n",
    "print(\"---------------------------------\")\n",
    "print(stress_df['status'].value_counts())\n",
    "print(\"---------------------------------\")\n",
    "print(bipolar_df['status'].value_counts())\n",
    "print(\"---------------------------------\")\n",
    "print(personality_disorder_df['status'].value_counts())\n"
   ]
  },
  {
   "cell_type": "code",
   "execution_count": 11,
   "id": "303db3e2",
   "metadata": {
    "execution": {
     "iopub.execute_input": "2024-11-15T13:24:04.048524Z",
     "iopub.status.busy": "2024-11-15T13:24:04.048079Z",
     "iopub.status.idle": "2024-11-15T13:24:04.396207Z",
     "shell.execute_reply": "2024-11-15T13:24:04.395057Z"
    },
    "papermill": {
     "duration": 0.367967,
     "end_time": "2024-11-15T13:24:04.399245",
     "exception": false,
     "start_time": "2024-11-15T13:24:04.031278",
     "status": "completed"
    },
    "tags": []
   },
   "outputs": [],
   "source": [
    "from sklearn.model_selection import train_test_split\n",
    "from sklearn.ensemble import RandomForestClassifier  # Example classifier\n",
    "from sklearn.metrics import accuracy_score"
   ]
  },
  {
   "cell_type": "code",
   "execution_count": 12,
   "id": "8a30aaa3",
   "metadata": {
    "execution": {
     "iopub.execute_input": "2024-11-15T13:24:04.432075Z",
     "iopub.status.busy": "2024-11-15T13:24:04.431605Z",
     "iopub.status.idle": "2024-11-15T13:24:04.477731Z",
     "shell.execute_reply": "2024-11-15T13:24:04.476442Z"
    },
    "papermill": {
     "duration": 0.065989,
     "end_time": "2024-11-15T13:24:04.480714",
     "exception": false,
     "start_time": "2024-11-15T13:24:04.414725",
     "status": "completed"
    },
    "tags": []
   },
   "outputs": [],
   "source": [
    "# Sample 100 random rows from each DataFrame\n",
    "seed=42\n",
    "sample_anxiety = anxiety_df.sample(n=3541, random_state=seed) #3841\n",
    "sample_normal = normal_df.sample(n=16000, random_state=seed) #16178\n",
    "sample_depression = depression_df.sample(n=15000, random_state=seed) #15403\n",
    "sample_suicidal = suicidal_df.sample(n=10000, random_state=seed) #10649\n",
    "sample_stress = stress_df.sample(n=2587, random_state=seed) #2587\n",
    "sample_bipolar = bipolar_df.sample(n=2777, random_state=seed) #2777\n",
    "sample_personality_disorder = personality_disorder_df.sample(n=1077, random_state=seed) #1077\n",
    "\n",
    "# Concatenate samples vertically (row-wise)\n",
    "combined_df = pd.concat(\n",
    "    [sample_anxiety,sample_normal, sample_depression, sample_suicidal, sample_stress, sample_bipolar, sample_personality_disorder]\n",
    ")\n",
    "\n",
    "# Assume 'labels' is a column indicating the target for each row in combined_df\n",
    "x = combined_df[['cleaned_statement','num_of_characters','num_of_sentences']]  # Text features\n",
    "y = combined_df['status_encoded'] # Target variable\n",
    "\n",
    "x_train, x_test, y_train, y_test = train_test_split(x, y, test_size=0.2,random_state=seed)"
   ]
  },
  {
   "cell_type": "code",
   "execution_count": 13,
   "id": "5fc81c46",
   "metadata": {
    "execution": {
     "iopub.execute_input": "2024-11-15T13:24:04.513575Z",
     "iopub.status.busy": "2024-11-15T13:24:04.512481Z",
     "iopub.status.idle": "2024-11-15T13:24:04.527486Z",
     "shell.execute_reply": "2024-11-15T13:24:04.526319Z"
    },
    "papermill": {
     "duration": 0.034227,
     "end_time": "2024-11-15T13:24:04.530124",
     "exception": false,
     "start_time": "2024-11-15T13:24:04.495897",
     "status": "completed"
    },
    "tags": []
   },
   "outputs": [
    {
     "data": {
      "text/html": [
       "<div>\n",
       "<style scoped>\n",
       "    .dataframe tbody tr th:only-of-type {\n",
       "        vertical-align: middle;\n",
       "    }\n",
       "\n",
       "    .dataframe tbody tr th {\n",
       "        vertical-align: top;\n",
       "    }\n",
       "\n",
       "    .dataframe thead th {\n",
       "        text-align: right;\n",
       "    }\n",
       "</style>\n",
       "<table border=\"1\" class=\"dataframe\">\n",
       "  <thead>\n",
       "    <tr style=\"text-align: right;\">\n",
       "      <th></th>\n",
       "      <th>status</th>\n",
       "      <th>cleaned_statement</th>\n",
       "      <th>num_of_characters</th>\n",
       "      <th>num_of_sentences</th>\n",
       "      <th>status_encoded</th>\n",
       "    </tr>\n",
       "  </thead>\n",
       "  <tbody>\n",
       "    <tr>\n",
       "      <th>33915</th>\n",
       "      <td>anxiety</td>\n",
       "      <td>health anxiety checking temperature time day c...</td>\n",
       "      <td>173</td>\n",
       "      <td>2</td>\n",
       "      <td>0</td>\n",
       "    </tr>\n",
       "    <tr>\n",
       "      <th>52678</th>\n",
       "      <td>anxiety</td>\n",
       "      <td>way sleep good sleep night med help</td>\n",
       "      <td>85</td>\n",
       "      <td>2</td>\n",
       "      <td>0</td>\n",
       "    </tr>\n",
       "    <tr>\n",
       "      <th>52058</th>\n",
       "      <td>anxiety</td>\n",
       "      <td>lamictal anyone good review lamictal</td>\n",
       "      <td>51</td>\n",
       "      <td>2</td>\n",
       "      <td>0</td>\n",
       "    </tr>\n",
       "    <tr>\n",
       "      <th>51618</th>\n",
       "      <td>anxiety</td>\n",
       "      <td>anyone try emdr therapy start thought like far...</td>\n",
       "      <td>163</td>\n",
       "      <td>5</td>\n",
       "      <td>0</td>\n",
       "    </tr>\n",
       "    <tr>\n",
       "      <th>35073</th>\n",
       "      <td>anxiety</td>\n",
       "      <td>would may ecg pick worried yesterday drill woo...</td>\n",
       "      <td>1392</td>\n",
       "      <td>9</td>\n",
       "      <td>0</td>\n",
       "    </tr>\n",
       "    <tr>\n",
       "      <th>...</th>\n",
       "      <td>...</td>\n",
       "      <td>...</td>\n",
       "      <td>...</td>\n",
       "      <td>...</td>\n",
       "      <td>...</td>\n",
       "    </tr>\n",
       "    <tr>\n",
       "      <th>50790</th>\n",
       "      <td>personality disorder</td>\n",
       "      <td>disorder feel like permanent burnout would nev...</td>\n",
       "      <td>283</td>\n",
       "      <td>6</td>\n",
       "      <td>4</td>\n",
       "    </tr>\n",
       "    <tr>\n",
       "      <th>50926</th>\n",
       "      <td>personality disorder</td>\n",
       "      <td>iv e avoid financial aid appeal really want ta...</td>\n",
       "      <td>169</td>\n",
       "      <td>3</td>\n",
       "      <td>4</td>\n",
       "    </tr>\n",
       "    <tr>\n",
       "      <th>50581</th>\n",
       "      <td>personality disorder</td>\n",
       "      <td>avpd covid ruin dream job nanny year daycare o...</td>\n",
       "      <td>1100</td>\n",
       "      <td>12</td>\n",
       "      <td>4</td>\n",
       "    </tr>\n",
       "    <tr>\n",
       "      <th>51504</th>\n",
       "      <td>personality disorder</td>\n",
       "      <td>know actually avpd last month struggeling lot ...</td>\n",
       "      <td>748</td>\n",
       "      <td>7</td>\n",
       "      <td>4</td>\n",
       "    </tr>\n",
       "    <tr>\n",
       "      <th>51320</th>\n",
       "      <td>personality disorder</td>\n",
       "      <td>professor make eye contact throw two week calc...</td>\n",
       "      <td>829</td>\n",
       "      <td>14</td>\n",
       "      <td>4</td>\n",
       "    </tr>\n",
       "  </tbody>\n",
       "</table>\n",
       "<p>50982 rows × 5 columns</p>\n",
       "</div>"
      ],
      "text/plain": [
       "                     status  \\\n",
       "33915               anxiety   \n",
       "52678               anxiety   \n",
       "52058               anxiety   \n",
       "51618               anxiety   \n",
       "35073               anxiety   \n",
       "...                     ...   \n",
       "50790  personality disorder   \n",
       "50926  personality disorder   \n",
       "50581  personality disorder   \n",
       "51504  personality disorder   \n",
       "51320  personality disorder   \n",
       "\n",
       "                                       cleaned_statement  num_of_characters  \\\n",
       "33915  health anxiety checking temperature time day c...                173   \n",
       "52678                way sleep good sleep night med help                 85   \n",
       "52058               lamictal anyone good review lamictal                 51   \n",
       "51618  anyone try emdr therapy start thought like far...                163   \n",
       "35073  would may ecg pick worried yesterday drill woo...               1392   \n",
       "...                                                  ...                ...   \n",
       "50790  disorder feel like permanent burnout would nev...                283   \n",
       "50926  iv e avoid financial aid appeal really want ta...                169   \n",
       "50581  avpd covid ruin dream job nanny year daycare o...               1100   \n",
       "51504  know actually avpd last month struggeling lot ...                748   \n",
       "51320  professor make eye contact throw two week calc...                829   \n",
       "\n",
       "       num_of_sentences  status_encoded  \n",
       "33915                 2               0  \n",
       "52678                 2               0  \n",
       "52058                 2               0  \n",
       "51618                 5               0  \n",
       "35073                 9               0  \n",
       "...                 ...             ...  \n",
       "50790                 6               4  \n",
       "50926                 3               4  \n",
       "50581                12               4  \n",
       "51504                 7               4  \n",
       "51320                14               4  \n",
       "\n",
       "[50982 rows x 5 columns]"
      ]
     },
     "execution_count": 13,
     "metadata": {},
     "output_type": "execute_result"
    }
   ],
   "source": [
    "combined_df"
   ]
  },
  {
   "cell_type": "code",
   "execution_count": 14,
   "id": "33427ccb",
   "metadata": {
    "execution": {
     "iopub.execute_input": "2024-11-15T13:24:04.563917Z",
     "iopub.status.busy": "2024-11-15T13:24:04.562886Z",
     "iopub.status.idle": "2024-11-15T13:24:04.576499Z",
     "shell.execute_reply": "2024-11-15T13:24:04.575288Z"
    },
    "papermill": {
     "duration": 0.033205,
     "end_time": "2024-11-15T13:24:04.579051",
     "exception": false,
     "start_time": "2024-11-15T13:24:04.545846",
     "status": "completed"
    },
    "tags": []
   },
   "outputs": [
    {
     "data": {
      "text/html": [
       "<div>\n",
       "<style scoped>\n",
       "    .dataframe tbody tr th:only-of-type {\n",
       "        vertical-align: middle;\n",
       "    }\n",
       "\n",
       "    .dataframe tbody tr th {\n",
       "        vertical-align: top;\n",
       "    }\n",
       "\n",
       "    .dataframe thead th {\n",
       "        text-align: right;\n",
       "    }\n",
       "</style>\n",
       "<table border=\"1\" class=\"dataframe\">\n",
       "  <thead>\n",
       "    <tr style=\"text-align: right;\">\n",
       "      <th></th>\n",
       "      <th>cleaned_statement</th>\n",
       "      <th>num_of_characters</th>\n",
       "      <th>num_of_sentences</th>\n",
       "    </tr>\n",
       "  </thead>\n",
       "  <tbody>\n",
       "    <tr>\n",
       "      <th>12024</th>\n",
       "      <td>would never guess thing like compliment always...</td>\n",
       "      <td>398</td>\n",
       "      <td>8</td>\n",
       "    </tr>\n",
       "    <tr>\n",
       "      <th>39425</th>\n",
       "      <td>really need place vent right kind move univers...</td>\n",
       "      <td>1665</td>\n",
       "      <td>1</td>\n",
       "    </tr>\n",
       "    <tr>\n",
       "      <th>13911</th>\n",
       "      <td>get suicide kit exit bag</td>\n",
       "      <td>39</td>\n",
       "      <td>2</td>\n",
       "    </tr>\n",
       "    <tr>\n",
       "      <th>17207</th>\n",
       "      <td>start therapy go plan sit talk thing destroy w...</td>\n",
       "      <td>716</td>\n",
       "      <td>8</td>\n",
       "    </tr>\n",
       "    <tr>\n",
       "      <th>16241</th>\n",
       "      <td>dog id reason kill could id give dog love atte...</td>\n",
       "      <td>218</td>\n",
       "      <td>3</td>\n",
       "    </tr>\n",
       "    <tr>\n",
       "      <th>...</th>\n",
       "      <td>...</td>\n",
       "      <td>...</td>\n",
       "      <td>...</td>\n",
       "    </tr>\n",
       "    <tr>\n",
       "      <th>2659</th>\n",
       "      <td>album come soon</td>\n",
       "      <td>23</td>\n",
       "      <td>1</td>\n",
       "    </tr>\n",
       "    <tr>\n",
       "      <th>49277</th>\n",
       "      <td>deal previous stress situation stress since mi...</td>\n",
       "      <td>643</td>\n",
       "      <td>7</td>\n",
       "    </tr>\n",
       "    <tr>\n",
       "      <th>16456</th>\n",
       "      <td>fairness entirely sure find want leave life be...</td>\n",
       "      <td>1157</td>\n",
       "      <td>25</td>\n",
       "    </tr>\n",
       "    <tr>\n",
       "      <th>34530</th>\n",
       "      <td>terrify brain amoeba fowleri hi everyone south...</td>\n",
       "      <td>2183</td>\n",
       "      <td>12</td>\n",
       "    </tr>\n",
       "    <tr>\n",
       "      <th>924</th>\n",
       "      <td>belongs allah kingdom heaven earth forgives wi...</td>\n",
       "      <td>215</td>\n",
       "      <td>4</td>\n",
       "    </tr>\n",
       "  </tbody>\n",
       "</table>\n",
       "<p>40785 rows × 3 columns</p>\n",
       "</div>"
      ],
      "text/plain": [
       "                                       cleaned_statement  num_of_characters  \\\n",
       "12024  would never guess thing like compliment always...                398   \n",
       "39425  really need place vent right kind move univers...               1665   \n",
       "13911                           get suicide kit exit bag                 39   \n",
       "17207  start therapy go plan sit talk thing destroy w...                716   \n",
       "16241  dog id reason kill could id give dog love atte...                218   \n",
       "...                                                  ...                ...   \n",
       "2659                                     album come soon                 23   \n",
       "49277  deal previous stress situation stress since mi...                643   \n",
       "16456  fairness entirely sure find want leave life be...               1157   \n",
       "34530  terrify brain amoeba fowleri hi everyone south...               2183   \n",
       "924    belongs allah kingdom heaven earth forgives wi...                215   \n",
       "\n",
       "       num_of_sentences  \n",
       "12024                 8  \n",
       "39425                 1  \n",
       "13911                 2  \n",
       "17207                 8  \n",
       "16241                 3  \n",
       "...                 ...  \n",
       "2659                  1  \n",
       "49277                 7  \n",
       "16456                25  \n",
       "34530                12  \n",
       "924                   4  \n",
       "\n",
       "[40785 rows x 3 columns]"
      ]
     },
     "execution_count": 14,
     "metadata": {},
     "output_type": "execute_result"
    }
   ],
   "source": [
    "x_train"
   ]
  },
  {
   "cell_type": "code",
   "execution_count": 15,
   "id": "8a2936f4",
   "metadata": {
    "execution": {
     "iopub.execute_input": "2024-11-15T13:24:04.613730Z",
     "iopub.status.busy": "2024-11-15T13:24:04.612619Z",
     "iopub.status.idle": "2024-11-15T13:24:04.621695Z",
     "shell.execute_reply": "2024-11-15T13:24:04.620588Z"
    },
    "papermill": {
     "duration": 0.029001,
     "end_time": "2024-11-15T13:24:04.624218",
     "exception": false,
     "start_time": "2024-11-15T13:24:04.595217",
     "status": "completed"
    },
    "tags": []
   },
   "outputs": [
    {
     "data": {
      "text/plain": [
       "12024    6\n",
       "39425    2\n",
       "13911    6\n",
       "17207    2\n",
       "16241    6\n",
       "        ..\n",
       "2659     3\n",
       "49277    5\n",
       "16456    6\n",
       "34530    0\n",
       "924      3\n",
       "Name: status_encoded, Length: 40785, dtype: int64"
      ]
     },
     "execution_count": 15,
     "metadata": {},
     "output_type": "execute_result"
    }
   ],
   "source": [
    "y_train"
   ]
  },
  {
   "cell_type": "code",
   "execution_count": 16,
   "id": "4b545436",
   "metadata": {
    "execution": {
     "iopub.execute_input": "2024-11-15T13:24:04.659298Z",
     "iopub.status.busy": "2024-11-15T13:24:04.658144Z",
     "iopub.status.idle": "2024-11-15T13:24:16.314047Z",
     "shell.execute_reply": "2024-11-15T13:24:16.312809Z"
    },
    "papermill": {
     "duration": 11.676612,
     "end_time": "2024-11-15T13:24:16.316869",
     "exception": false,
     "start_time": "2024-11-15T13:24:04.640257",
     "status": "completed"
    },
    "tags": []
   },
   "outputs": [
    {
     "name": "stdout",
     "output_type": "stream",
     "text": [
      "Number of feature words:  50000\n"
     ]
    }
   ],
   "source": [
    "from sklearn.feature_extraction.text import TfidfVectorizer\n",
    "from scipy.sparse import hstack\n",
    "# 1. Initialize TF-IDF Vectorizer and fit/transform on the 'tokens' column\n",
    "vectorizer = TfidfVectorizer(ngram_range=(1, 2),max_features=50000)\n",
    "x_train_tfidf = vectorizer.fit_transform(x_train['cleaned_statement'])\n",
    "x_test_tfidf = vectorizer.transform(x_test['cleaned_statement'])\n",
    "\n",
    "# 2. Extract numerical features\n",
    "x_train_num = x_train[['num_of_characters', 'num_of_sentences']].values\n",
    "x_test_num = x_test[['num_of_characters', 'num_of_sentences']].values\n",
    "\n",
    "# 3. Combine TF-IDF features with numerical features\n",
    "x_train_combined = hstack([x_train_tfidf, x_train_num])\n",
    "x_test_combined = hstack([x_test_tfidf, x_test_num])\n",
    "\n",
    "print('Number of feature words: ', len(vectorizer.get_feature_names_out()))"
   ]
  },
  {
   "cell_type": "code",
   "execution_count": 17,
   "id": "139aa20e",
   "metadata": {
    "execution": {
     "iopub.execute_input": "2024-11-15T13:24:16.352498Z",
     "iopub.status.busy": "2024-11-15T13:24:16.351521Z",
     "iopub.status.idle": "2024-11-15T13:24:16.920126Z",
     "shell.execute_reply": "2024-11-15T13:24:16.919097Z"
    },
    "papermill": {
     "duration": 0.589463,
     "end_time": "2024-11-15T13:24:16.923073",
     "exception": false,
     "start_time": "2024-11-15T13:24:16.333610",
     "status": "completed"
    },
    "tags": []
   },
   "outputs": [],
   "source": [
    "import pickle\n",
    "# Open the file in write-binary mode\n",
    "with open('vectorizer_kaggle.pkl','wb') as file:\n",
    "    # Dump the model to the file\n",
    "    pickle.dump(vectorizer, file)"
   ]
  },
  {
   "cell_type": "code",
   "execution_count": 18,
   "id": "b12eb793",
   "metadata": {
    "execution": {
     "iopub.execute_input": "2024-11-15T13:24:16.958077Z",
     "iopub.status.busy": "2024-11-15T13:24:16.957606Z",
     "iopub.status.idle": "2024-11-15T13:24:16.965214Z",
     "shell.execute_reply": "2024-11-15T13:24:16.963963Z"
    },
    "papermill": {
     "duration": 0.028157,
     "end_time": "2024-11-15T13:24:16.967851",
     "exception": false,
     "start_time": "2024-11-15T13:24:16.939694",
     "status": "completed"
    },
    "tags": []
   },
   "outputs": [
    {
     "data": {
      "text/plain": [
       "<Compressed Sparse Row sparse matrix of dtype 'float64'\n",
       "\twith 2368097 stored elements and shape (40785, 50000)>"
      ]
     },
     "execution_count": 18,
     "metadata": {},
     "output_type": "execute_result"
    }
   ],
   "source": [
    "x_train_tfidf"
   ]
  },
  {
   "cell_type": "code",
   "execution_count": 19,
   "id": "ec5ce6a1",
   "metadata": {
    "execution": {
     "iopub.execute_input": "2024-11-15T13:24:17.002914Z",
     "iopub.status.busy": "2024-11-15T13:24:17.002440Z",
     "iopub.status.idle": "2024-11-15T13:24:17.019026Z",
     "shell.execute_reply": "2024-11-15T13:24:17.017755Z"
    },
    "papermill": {
     "duration": 0.037291,
     "end_time": "2024-11-15T13:24:17.021709",
     "exception": false,
     "start_time": "2024-11-15T13:24:16.984418",
     "status": "completed"
    },
    "tags": []
   },
   "outputs": [
    {
     "data": {
      "text/html": [
       "<div>\n",
       "<style scoped>\n",
       "    .dataframe tbody tr th:only-of-type {\n",
       "        vertical-align: middle;\n",
       "    }\n",
       "\n",
       "    .dataframe tbody tr th {\n",
       "        vertical-align: top;\n",
       "    }\n",
       "\n",
       "    .dataframe thead th {\n",
       "        text-align: right;\n",
       "    }\n",
       "</style>\n",
       "<table border=\"1\" class=\"dataframe\">\n",
       "  <thead>\n",
       "    <tr style=\"text-align: right;\">\n",
       "      <th></th>\n",
       "      <th>status</th>\n",
       "      <th>cleaned_statement</th>\n",
       "      <th>num_of_characters</th>\n",
       "      <th>num_of_sentences</th>\n",
       "      <th>status_encoded</th>\n",
       "    </tr>\n",
       "  </thead>\n",
       "  <tbody>\n",
       "    <tr>\n",
       "      <th>33915</th>\n",
       "      <td>anxiety</td>\n",
       "      <td>health anxiety checking temperature time day c...</td>\n",
       "      <td>173</td>\n",
       "      <td>2</td>\n",
       "      <td>0</td>\n",
       "    </tr>\n",
       "    <tr>\n",
       "      <th>52678</th>\n",
       "      <td>anxiety</td>\n",
       "      <td>way sleep good sleep night med help</td>\n",
       "      <td>85</td>\n",
       "      <td>2</td>\n",
       "      <td>0</td>\n",
       "    </tr>\n",
       "    <tr>\n",
       "      <th>52058</th>\n",
       "      <td>anxiety</td>\n",
       "      <td>lamictal anyone good review lamictal</td>\n",
       "      <td>51</td>\n",
       "      <td>2</td>\n",
       "      <td>0</td>\n",
       "    </tr>\n",
       "    <tr>\n",
       "      <th>51618</th>\n",
       "      <td>anxiety</td>\n",
       "      <td>anyone try emdr therapy start thought like far...</td>\n",
       "      <td>163</td>\n",
       "      <td>5</td>\n",
       "      <td>0</td>\n",
       "    </tr>\n",
       "    <tr>\n",
       "      <th>35073</th>\n",
       "      <td>anxiety</td>\n",
       "      <td>would may ecg pick worried yesterday drill woo...</td>\n",
       "      <td>1392</td>\n",
       "      <td>9</td>\n",
       "      <td>0</td>\n",
       "    </tr>\n",
       "    <tr>\n",
       "      <th>...</th>\n",
       "      <td>...</td>\n",
       "      <td>...</td>\n",
       "      <td>...</td>\n",
       "      <td>...</td>\n",
       "      <td>...</td>\n",
       "    </tr>\n",
       "    <tr>\n",
       "      <th>50790</th>\n",
       "      <td>personality disorder</td>\n",
       "      <td>disorder feel like permanent burnout would nev...</td>\n",
       "      <td>283</td>\n",
       "      <td>6</td>\n",
       "      <td>4</td>\n",
       "    </tr>\n",
       "    <tr>\n",
       "      <th>50926</th>\n",
       "      <td>personality disorder</td>\n",
       "      <td>iv e avoid financial aid appeal really want ta...</td>\n",
       "      <td>169</td>\n",
       "      <td>3</td>\n",
       "      <td>4</td>\n",
       "    </tr>\n",
       "    <tr>\n",
       "      <th>50581</th>\n",
       "      <td>personality disorder</td>\n",
       "      <td>avpd covid ruin dream job nanny year daycare o...</td>\n",
       "      <td>1100</td>\n",
       "      <td>12</td>\n",
       "      <td>4</td>\n",
       "    </tr>\n",
       "    <tr>\n",
       "      <th>51504</th>\n",
       "      <td>personality disorder</td>\n",
       "      <td>know actually avpd last month struggeling lot ...</td>\n",
       "      <td>748</td>\n",
       "      <td>7</td>\n",
       "      <td>4</td>\n",
       "    </tr>\n",
       "    <tr>\n",
       "      <th>51320</th>\n",
       "      <td>personality disorder</td>\n",
       "      <td>professor make eye contact throw two week calc...</td>\n",
       "      <td>829</td>\n",
       "      <td>14</td>\n",
       "      <td>4</td>\n",
       "    </tr>\n",
       "  </tbody>\n",
       "</table>\n",
       "<p>50982 rows × 5 columns</p>\n",
       "</div>"
      ],
      "text/plain": [
       "                     status  \\\n",
       "33915               anxiety   \n",
       "52678               anxiety   \n",
       "52058               anxiety   \n",
       "51618               anxiety   \n",
       "35073               anxiety   \n",
       "...                     ...   \n",
       "50790  personality disorder   \n",
       "50926  personality disorder   \n",
       "50581  personality disorder   \n",
       "51504  personality disorder   \n",
       "51320  personality disorder   \n",
       "\n",
       "                                       cleaned_statement  num_of_characters  \\\n",
       "33915  health anxiety checking temperature time day c...                173   \n",
       "52678                way sleep good sleep night med help                 85   \n",
       "52058               lamictal anyone good review lamictal                 51   \n",
       "51618  anyone try emdr therapy start thought like far...                163   \n",
       "35073  would may ecg pick worried yesterday drill woo...               1392   \n",
       "...                                                  ...                ...   \n",
       "50790  disorder feel like permanent burnout would nev...                283   \n",
       "50926  iv e avoid financial aid appeal really want ta...                169   \n",
       "50581  avpd covid ruin dream job nanny year daycare o...               1100   \n",
       "51504  know actually avpd last month struggeling lot ...                748   \n",
       "51320  professor make eye contact throw two week calc...                829   \n",
       "\n",
       "       num_of_sentences  status_encoded  \n",
       "33915                 2               0  \n",
       "52678                 2               0  \n",
       "52058                 2               0  \n",
       "51618                 5               0  \n",
       "35073                 9               0  \n",
       "...                 ...             ...  \n",
       "50790                 6               4  \n",
       "50926                 3               4  \n",
       "50581                12               4  \n",
       "51504                 7               4  \n",
       "51320                14               4  \n",
       "\n",
       "[50982 rows x 5 columns]"
      ]
     },
     "execution_count": 19,
     "metadata": {},
     "output_type": "execute_result"
    }
   ],
   "source": [
    "combined_df"
   ]
  },
  {
   "cell_type": "code",
   "execution_count": null,
   "id": "94232a71",
   "metadata": {
    "papermill": {
     "duration": 0.016736,
     "end_time": "2024-11-15T13:24:17.055223",
     "exception": false,
     "start_time": "2024-11-15T13:24:17.038487",
     "status": "completed"
    },
    "tags": []
   },
   "outputs": [],
   "source": []
  },
  {
   "cell_type": "code",
   "execution_count": 20,
   "id": "7df7a9e1",
   "metadata": {
    "execution": {
     "iopub.execute_input": "2024-11-15T13:24:17.091345Z",
     "iopub.status.busy": "2024-11-15T13:24:17.090893Z",
     "iopub.status.idle": "2024-11-15T13:24:17.317074Z",
     "shell.execute_reply": "2024-11-15T13:24:17.316006Z"
    },
    "papermill": {
     "duration": 0.247414,
     "end_time": "2024-11-15T13:24:17.319916",
     "exception": false,
     "start_time": "2024-11-15T13:24:17.072502",
     "status": "completed"
    },
    "tags": []
   },
   "outputs": [],
   "source": [
    "from imblearn.over_sampling import RandomOverSampler\n",
    "\n",
    "# Apply Random Over-Sampling on the vectorized data\n",
    "ros = RandomOverSampler(random_state=101)\n",
    "x_train_resampled, y_train_resampled = ros.fit_resample(x_train_tfidf, y_train)"
   ]
  },
  {
   "cell_type": "code",
   "execution_count": 21,
   "id": "90e5e37f",
   "metadata": {
    "execution": {
     "iopub.execute_input": "2024-11-15T13:24:17.355237Z",
     "iopub.status.busy": "2024-11-15T13:24:17.354621Z",
     "iopub.status.idle": "2024-11-15T13:24:17.527401Z",
     "shell.execute_reply": "2024-11-15T13:24:17.526375Z"
    },
    "papermill": {
     "duration": 0.193479,
     "end_time": "2024-11-15T13:24:17.530165",
     "exception": false,
     "start_time": "2024-11-15T13:24:17.336686",
     "status": "completed"
    },
    "tags": []
   },
   "outputs": [],
   "source": [
    "\n",
    "from sklearn.model_selection import train_test_split, GridSearchCV\n",
    "from sklearn.preprocessing import LabelEncoder\n",
    "from sklearn.linear_model import LogisticRegression\n",
    "from sklearn.naive_bayes import BernoulliNB,MultinomialNB\n",
    "from sklearn.tree import DecisionTreeClassifier\n",
    "from sklearn.svm import SVC\n",
    "from xgboost import XGBClassifier\n",
    "from sklearn.metrics import accuracy_score, precision_score, recall_score, f1_score, classification_report, confusion_matrix\n",
    "\n",
    "import warnings\n",
    "warnings.filterwarnings(\"ignore\")"
   ]
  },
  {
   "cell_type": "code",
   "execution_count": 22,
   "id": "a1c7deae",
   "metadata": {
    "execution": {
     "iopub.execute_input": "2024-11-15T13:24:17.566446Z",
     "iopub.status.busy": "2024-11-15T13:24:17.566018Z",
     "iopub.status.idle": "2024-11-15T13:24:17.572522Z",
     "shell.execute_reply": "2024-11-15T13:24:17.571333Z"
    },
    "papermill": {
     "duration": 0.027946,
     "end_time": "2024-11-15T13:24:17.574957",
     "exception": false,
     "start_time": "2024-11-15T13:24:17.547011",
     "status": "completed"
    },
    "tags": []
   },
   "outputs": [],
   "source": [
    "classifiers = {\n",
    "    'Bernoulli Naive Bayes': BernoulliNB(alpha=0.1, binarize=0.0),\n",
    "    'Decision Tree': DecisionTreeClassifier(max_depth=9, min_samples_split=5, random_state=101), \n",
    "    'Multinomial Naive Bayes':MultinomialNB(),\n",
    "    'Logistic Regression': LogisticRegression(solver='liblinear', penalty='l1', C=10, random_state=101),\n",
    "    #'SVM' :SVC()\n",
    "    #'XGB': XGBClassifier(learning_rate=0.2, max_depth=7, n_estimators=500, random_state=101) #tree_method='gpu_hist'\n",
    "}"
   ]
  },
  {
   "cell_type": "code",
   "execution_count": 23,
   "id": "7e125440",
   "metadata": {
    "execution": {
     "iopub.execute_input": "2024-11-15T13:24:17.610502Z",
     "iopub.status.busy": "2024-11-15T13:24:17.609702Z",
     "iopub.status.idle": "2024-11-15T13:25:01.585286Z",
     "shell.execute_reply": "2024-11-15T13:25:01.583893Z"
    },
    "papermill": {
     "duration": 44.013709,
     "end_time": "2024-11-15T13:25:01.605252",
     "exception": false,
     "start_time": "2024-11-15T13:24:17.591543",
     "status": "completed"
    },
    "tags": []
   },
   "outputs": [
    {
     "name": "stdout",
     "output_type": "stream",
     "text": [
      "\n",
      "\n",
      "For Bernoulli Naive Bayes\n",
      "Accuracy: 0.6366578405413357\n",
      "Precision : 0.6372792789107773\n",
      "Recall : 0.6366578405413357\n",
      "Weighted F1-Score :0.6223916414027129\n",
      "\n",
      "\n",
      "For Decision Tree\n",
      "Accuracy: 0.5427086397960185\n",
      "Precision : 0.5666978977843858\n",
      "Recall : 0.5427086397960185\n",
      "Weighted F1-Score :0.5442289078035594\n",
      "\n",
      "\n",
      "For Multinomial Naive Bayes\n",
      "Accuracy: 0.6024320878689811\n",
      "Precision : 0.6971496147344766\n",
      "Recall : 0.6024320878689811\n",
      "Weighted F1-Score :0.6149418767434887\n",
      "\n",
      "\n",
      "For Logistic Regression\n",
      "Accuracy: 0.7265862508580955\n",
      "Precision : 0.7257250961026059\n",
      "Recall : 0.7265862508580955\n",
      "Weighted F1-Score :0.725581192617846\n"
     ]
    }
   ],
   "source": [
    "# Initialize a list to store accuracy scores for each classifier\n",
    "accuracy_scores = []\n",
    "\n",
    "# Iterate over each classifier and its name in the classifiers dictionary\n",
    "for name, clf in classifiers.items():\n",
    "    clf.fit(x_train_resampled, y_train_resampled)\n",
    "    y_pred = clf.predict(x_test_tfidf)\n",
    "    accuracy = accuracy_score(y_test, y_pred)\n",
    "    \n",
    "    print(\"\\n\")\n",
    "    print(\"For\", name)\n",
    "    print(\"Accuracy:\", accuracy)\n",
    "    \n",
    "    # Compute the confusion matrix for the predictions\n",
    "    # 'lbl_enc.classes_' provides the class labels for the confusion matrix and classification report\n",
    "    #labels = lbl_enc.classes_\n",
    "    conf_matrix = confusion_matrix(y_test, y_pred)\n",
    "    print(f\"Precision : {precision_score(y_test,y_pred,average='weighted')}\")\n",
    "    print(f\"Recall : {recall_score(y_test,y_pred,average='weighted')}\")\n",
    "    print(f\"Weighted F1-Score :{f1_score(y_test,y_pred,average='weighted')}\")\n",
    "    #print(classification_report(y_test, y_pred, target_names=labels))\n",
    "    \n",
    "    \n",
    "    # Append the accuracy score to the list\n",
    "    accuracy_scores.append(accuracy)\n",
    "\n"
   ]
  },
  {
   "cell_type": "code",
   "execution_count": 24,
   "id": "4a9232c3",
   "metadata": {
    "execution": {
     "iopub.execute_input": "2024-11-15T13:25:01.642692Z",
     "iopub.status.busy": "2024-11-15T13:25:01.642115Z",
     "iopub.status.idle": "2024-11-15T13:26:25.624114Z",
     "shell.execute_reply": "2024-11-15T13:26:25.622846Z"
    },
    "papermill": {
     "duration": 84.022086,
     "end_time": "2024-11-15T13:26:25.644924",
     "exception": false,
     "start_time": "2024-11-15T13:25:01.622838",
     "status": "completed"
    },
    "tags": []
   },
   "outputs": [
    {
     "name": "stdout",
     "output_type": "stream",
     "text": [
      "Log reg accuracy :  0.7477689516524468\n",
      "Precision : 0.7466049704283259\n",
      "Recall : 0.7477689516524468\n",
      "Weighted F1-Score :0.7462212580753279\n"
     ]
    }
   ],
   "source": [
    "log_reg_model_kaggle=LogisticRegression(solver='newton-cg', penalty='l2', C=10,multi_class='ovr')\n",
    "log_reg_model_kaggle.fit(x_train_resampled, y_train_resampled)\n",
    "y_pred = log_reg_model_kaggle.predict(x_test_tfidf)\n",
    "print(\"Log reg accuracy : \", accuracy_score(y_test, y_pred))\n",
    "print(f\"Precision : {precision_score(y_test,y_pred,average='weighted')}\")\n",
    "print(f\"Recall : {recall_score(y_test,y_pred,average='weighted')}\")\n",
    "print(f\"Weighted F1-Score :{f1_score(y_test,y_pred,average='weighted')}\")"
   ]
  },
  {
   "cell_type": "code",
   "execution_count": 25,
   "id": "a4dcc28e",
   "metadata": {
    "execution": {
     "iopub.execute_input": "2024-11-15T13:26:25.685473Z",
     "iopub.status.busy": "2024-11-15T13:26:25.684646Z",
     "iopub.status.idle": "2024-11-15T13:26:25.695094Z",
     "shell.execute_reply": "2024-11-15T13:26:25.693875Z"
    },
    "papermill": {
     "duration": 0.031479,
     "end_time": "2024-11-15T13:26:25.697617",
     "exception": false,
     "start_time": "2024-11-15T13:26:25.666138",
     "status": "completed"
    },
    "tags": []
   },
   "outputs": [
    {
     "name": "stdout",
     "output_type": "stream",
     "text": [
      "[[ 595   12   39   40    5   21   12]\n",
      " [   9  425   68   20    1   12   22]\n",
      " [  90   62 1948  135   37   79  658]\n",
      " [  31    1   68 2944    5   71   69]\n",
      " [   5    3   32   19  144   10   11]\n",
      " [  44    8   95   48    9  309   52]\n",
      " [  10   16  475  126   13   29 1260]]\n"
     ]
    }
   ],
   "source": [
    "print(confusion_matrix(y_test, y_pred))\n",
    "#Label Mapping: {'anxiety': 0, 'bipolar': 1, 'depression': 2, 'normal': 3, 'personality disorder': 4, 'stress': 5, 'suicidal': 6}"
   ]
  },
  {
   "cell_type": "code",
   "execution_count": 26,
   "id": "c5c5ba89",
   "metadata": {
    "execution": {
     "iopub.execute_input": "2024-11-15T13:26:25.733827Z",
     "iopub.status.busy": "2024-11-15T13:26:25.733374Z",
     "iopub.status.idle": "2024-11-15T13:26:26.204563Z",
     "shell.execute_reply": "2024-11-15T13:26:26.203200Z"
    },
    "papermill": {
     "duration": 0.492477,
     "end_time": "2024-11-15T13:26:26.207304",
     "exception": false,
     "start_time": "2024-11-15T13:26:25.714827",
     "status": "completed"
    },
    "tags": []
   },
   "outputs": [
    {
     "data": {
      "image/png": "[encoded data removed]",
      "text/plain": [
       "<Figure size 800x600 with 1 Axes>"
      ]
     },
     "metadata": {},
     "output_type": "display_data"
    }
   ],
   "source": [
    "import seaborn as sns\n",
    "import matplotlib.pyplot as plt\n",
    "from sklearn.metrics import confusion_matrix\n",
    "\n",
    "# Generate the confusion matrix\n",
    "cm = confusion_matrix(y_test, y_pred)\n",
    "\n",
    "# Define the class labels\n",
    "labels = ['anxiety', 'bipolar', 'depression', 'normal', 'personality disorder', 'stress', 'suicidal']\n",
    "\n",
    "# Create a heatmap for the confusion matrix\n",
    "plt.figure(figsize=(8, 6))\n",
    "sns.heatmap(cm, annot=True, fmt='d', cmap='Blues', xticklabels=labels, yticklabels=labels, cbar=False)\n",
    "\n",
    "# Add labels and title\n",
    "plt.xlabel('Predicted Labels')\n",
    "plt.ylabel('True Labels')\n",
    "plt.title('Confusion Matrix for Logistic Regression')\n",
    "\n",
    "# Display the plot\n",
    "plt.show()\n"
   ]
  },
  {
   "cell_type": "code",
   "execution_count": 27,
   "id": "31fce276",
   "metadata": {
    "execution": {
     "iopub.execute_input": "2024-11-15T13:26:26.246700Z",
     "iopub.status.busy": "2024-11-15T13:26:26.245685Z",
     "iopub.status.idle": "2024-11-15T13:26:26.256956Z",
     "shell.execute_reply": "2024-11-15T13:26:26.255847Z"
    },
    "papermill": {
     "duration": 0.033585,
     "end_time": "2024-11-15T13:26:26.259560",
     "exception": false,
     "start_time": "2024-11-15T13:26:26.225975",
     "status": "completed"
    },
    "tags": []
   },
   "outputs": [],
   "source": [
    "import pickle\n",
    "# Open the file in write-binary mode\n",
    "with open('log_reg_model_kaggle.pkl', 'wb') as file:\n",
    "    # Dump the model to the file\n",
    "    pickle.dump(log_reg_model_kaggle, file)"
   ]
  },
  {
   "cell_type": "code",
   "execution_count": 28,
   "id": "dd1c2dd1",
   "metadata": {
    "execution": {
     "iopub.execute_input": "2024-11-15T13:26:26.300273Z",
     "iopub.status.busy": "2024-11-15T13:26:26.299185Z",
     "iopub.status.idle": "2024-11-15T13:27:51.439571Z",
     "shell.execute_reply": "2024-11-15T13:27:51.438497Z"
    },
    "papermill": {
     "duration": 85.181733,
     "end_time": "2024-11-15T13:27:51.460179",
     "exception": false,
     "start_time": "2024-11-15T13:26:26.278446",
     "status": "completed"
    },
    "tags": []
   },
   "outputs": [
    {
     "name": "stdout",
     "output_type": "stream",
     "text": [
      "Model Accuracy: 0.6837\n",
      "Precision : 0.681138606669913\n",
      "Recall : 0.6837305089732274\n",
      "Weighted F1-Score :0.6730883937667527\n"
     ]
    }
   ],
   "source": [
    "# Train a model (e.g., RandomForestClassifier)\n",
    "model = RandomForestClassifier(max_depth=40, min_samples_split=5, random_state=101)\n",
    "model.fit(x_train_resampled, y_train_resampled)\n",
    "\n",
    "# Predict using the trained model\n",
    "y_pred = model.predict(x_test_tfidf)\n",
    "\n",
    "# Calculate accuracy\n",
    "accuracy = accuracy_score(y_test, y_pred)\n",
    "print(f\"Model Accuracy: {accuracy:.4f}\")\n",
    "print(f\"Precision : {precision_score(y_test,y_pred,average='weighted')}\")\n",
    "print(f\"Recall : {recall_score(y_test,y_pred,average='weighted')}\")\n",
    "print(f\"Weighted F1-Score :{f1_score(y_test,y_pred,average='weighted')}\")"
   ]
  },
  {
   "cell_type": "code",
   "execution_count": 29,
   "id": "96f70712",
   "metadata": {
    "execution": {
     "iopub.execute_input": "2024-11-15T13:27:51.499700Z",
     "iopub.status.busy": "2024-11-15T13:27:51.498866Z",
     "iopub.status.idle": "2024-11-15T13:38:25.927527Z",
     "shell.execute_reply": "2024-11-15T13:38:25.926226Z"
    },
    "papermill": {
     "duration": 634.469058,
     "end_time": "2024-11-15T13:38:25.948165",
     "exception": false,
     "start_time": "2024-11-15T13:27:51.479107",
     "status": "completed"
    },
    "tags": []
   },
   "outputs": [
    {
     "name": "stdout",
     "output_type": "stream",
     "text": [
      "Bagging Model Accuracy: 0.6905\n"
     ]
    }
   ],
   "source": [
    "from sklearn.ensemble import BaggingClassifier\n",
    "# Wrap the base model with BaggingClassifier\n",
    "bagging_model = BaggingClassifier(estimator=model, n_estimators=10, random_state=101)\n",
    "\n",
    "# Train the bagging model\n",
    "bagging_model.fit(x_train_resampled, y_train_resampled)\n",
    "\n",
    "# Predict using the bagging model\n",
    "y_pred_bagging = bagging_model.predict(x_test_tfidf)\n",
    "\n",
    "# Calculate accuracy\n",
    "accuracy_bagging = accuracy_score(y_test, y_pred_bagging)\n",
    "print(f\"Bagging Model Accuracy: {accuracy_bagging:.4f}\")"
   ]
  },
  {
   "cell_type": "code",
   "execution_count": 30,
   "id": "e6a365f9",
   "metadata": {
    "execution": {
     "iopub.execute_input": "2024-11-15T13:38:25.987291Z",
     "iopub.status.busy": "2024-11-15T13:38:25.986540Z",
     "iopub.status.idle": "2024-11-15T13:43:27.995035Z",
     "shell.execute_reply": "2024-11-15T13:43:27.993874Z"
    },
    "papermill": {
     "duration": 302.049344,
     "end_time": "2024-11-15T13:43:28.015855",
     "exception": false,
     "start_time": "2024-11-15T13:38:25.966511",
     "status": "completed"
    },
    "tags": []
   },
   "outputs": [
    {
     "name": "stdout",
     "output_type": "stream",
     "text": [
      "Bagging Model Accuracy: 0.7167\n"
     ]
    }
   ],
   "source": [
    "XGB_model=XGBClassifier(learning_rate=0.2, max_depth=7, n_estimators=40, random_state=101)\n",
    "\n",
    "# Train the bagging model\n",
    "XGB_model.fit(x_train_resampled, y_train_resampled)\n",
    "\n",
    "# Predict using the bagging model\n",
    "y_pred_XGB = XGB_model.predict(x_test_tfidf)\n",
    "\n",
    "# Calculate accuracy\n",
    "accuracy_bagging = accuracy_score(y_test, y_pred_XGB)\n",
    "print(f\"Bagging Model Accuracy: {accuracy_bagging:.4f}\")"
   ]
  },
  {
   "cell_type": "code",
   "execution_count": 31,
   "id": "84a7bb2c",
   "metadata": {
    "execution": {
     "iopub.execute_input": "2024-11-15T13:43:28.059303Z",
     "iopub.status.busy": "2024-11-15T13:43:28.055964Z",
     "iopub.status.idle": "2024-11-15T13:51:50.216255Z",
     "shell.execute_reply": "2024-11-15T13:51:50.215003Z"
    },
    "papermill": {
     "duration": 502.203229,
     "end_time": "2024-11-15T13:51:50.237515",
     "exception": false,
     "start_time": "2024-11-15T13:43:28.034286",
     "status": "completed"
    },
    "tags": []
   },
   "outputs": [
    {
     "name": "stdout",
     "output_type": "stream",
     "text": [
      "Bagging Model Accuracy: 0.7294\n"
     ]
    }
   ],
   "source": [
    "XGB_model=XGBClassifier(learning_rate=0.2, max_depth=7, n_estimators=80, random_state=101)\n",
    "\n",
    "# Train the bagging model\n",
    "XGB_model.fit(x_train_resampled, y_train_resampled)\n",
    "\n",
    "# Predict using the bagging model\n",
    "y_pred_XGB = XGB_model.predict(x_test_tfidf)\n",
    "\n",
    "# Calculate accuracy\n",
    "accuracy_bagging = accuracy_score(y_test, y_pred_XGB)\n",
    "print(f\"Bagging Model Accuracy: {accuracy_bagging:.4f}\")"
   ]
  },
  {
   "cell_type": "code",
   "execution_count": 32,
   "id": "6bb3186d",
   "metadata": {
    "execution": {
     "iopub.execute_input": "2024-11-15T13:51:50.276478Z",
     "iopub.status.busy": "2024-11-15T13:51:50.276052Z",
     "iopub.status.idle": "2024-11-15T13:51:50.286135Z",
     "shell.execute_reply": "2024-11-15T13:51:50.284921Z"
    },
    "papermill": {
     "duration": 0.032597,
     "end_time": "2024-11-15T13:51:50.288654",
     "exception": false,
     "start_time": "2024-11-15T13:51:50.256057",
     "status": "completed"
    },
    "tags": []
   },
   "outputs": [
    {
     "name": "stdout",
     "output_type": "stream",
     "text": [
      "[[ 592   11   32   37    8   30   14]\n",
      " [  14  419   49   21    9   23   22]\n",
      " [  90  100 1728  170   75  128  718]\n",
      " [  40    7   38 2912   14  127   51]\n",
      " [  10    3   27   19  146   14    5]\n",
      " [  59    3   59   39   14  351   40]\n",
      " [  17   27  345  168   23   59 1290]]\n"
     ]
    }
   ],
   "source": [
    "print(confusion_matrix(y_test, y_pred_XGB))"
   ]
  },
  {
   "cell_type": "code",
   "execution_count": 33,
   "id": "f9730d1e",
   "metadata": {
    "execution": {
     "iopub.execute_input": "2024-11-15T13:51:50.328698Z",
     "iopub.status.busy": "2024-11-15T13:51:50.327647Z",
     "iopub.status.idle": "2024-11-15T14:05:20.730398Z",
     "shell.execute_reply": "2024-11-15T14:05:20.729255Z"
    },
    "papermill": {
     "duration": 810.444168,
     "end_time": "2024-11-15T14:05:20.751618",
     "exception": false,
     "start_time": "2024-11-15T13:51:50.307450",
     "status": "completed"
    },
    "tags": []
   },
   "outputs": [
    {
     "name": "stdout",
     "output_type": "stream",
     "text": [
      "Boosting Model Accuracy: 0.7412\n",
      "Precision : 0.7453510362274853\n",
      "Recall : 0.7411983916838286\n",
      "Weighted F1-Score :0.7401484238031037\n"
     ]
    }
   ],
   "source": [
    "XGB_model=XGBClassifier(learning_rate=0.2, max_depth=7, n_estimators=150, random_state=101)\n",
    "\n",
    "# Train the bagging model\n",
    "XGB_model.fit(x_train_resampled, y_train_resampled)\n",
    "\n",
    "# Predict using the bagging model\n",
    "y_pred_XGB = XGB_model.predict(x_test_tfidf)\n",
    "\n",
    "# Calculate accuracy\n",
    "accuracy_boosting = accuracy_score(y_test, y_pred_XGB)\n",
    "print(f\"Boosting Model Accuracy: {accuracy_boosting:.4f}\")\n",
    "print(f\"Precision : {precision_score(y_test,y_pred_XGB,average='weighted')}\")\n",
    "print(f\"Recall : {recall_score(y_test,y_pred_XGB,average='weighted')}\")\n",
    "print(f\"Weighted F1-Score :{f1_score(y_test,y_pred_XGB,average='weighted')}\")"
   ]
  },
  {
   "cell_type": "code",
   "execution_count": 34,
   "id": "e488e660",
   "metadata": {
    "execution": {
     "iopub.execute_input": "2024-11-15T14:05:20.791698Z",
     "iopub.status.busy": "2024-11-15T14:05:20.790625Z",
     "iopub.status.idle": "2024-11-15T14:05:20.800685Z",
     "shell.execute_reply": "2024-11-15T14:05:20.799518Z"
    },
    "papermill": {
     "duration": 0.032694,
     "end_time": "2024-11-15T14:05:20.802918",
     "exception": false,
     "start_time": "2024-11-15T14:05:20.770224",
     "status": "completed"
    },
    "tags": []
   },
   "outputs": [
    {
     "name": "stdout",
     "output_type": "stream",
     "text": [
      "[[ 595   11   36   30    5   31   16]\n",
      " [  12  429   49   23    6   18   20]\n",
      " [  77   90 1819  158   47  113  705]\n",
      " [  33    7   48 2921    7  122   51]\n",
      " [  10    2   33   19  139   13    8]\n",
      " [  57    5   69   41    8  347   38]\n",
      " [  13   23  383  140   14   48 1308]]\n"
     ]
    }
   ],
   "source": [
    "from sklearn.metrics import accuracy_score,confusion_matrix,precision_score,recall_score\n",
    "\n",
    "print(confusion_matrix(y_test, y_pred_XGB))"
   ]
  },
  {
   "cell_type": "code",
   "execution_count": 35,
   "id": "d09eedcf",
   "metadata": {
    "execution": {
     "iopub.execute_input": "2024-11-15T14:05:20.842906Z",
     "iopub.status.busy": "2024-11-15T14:05:20.842429Z",
     "iopub.status.idle": "2024-11-15T14:25:10.617337Z",
     "shell.execute_reply": "2024-11-15T14:25:10.616161Z"
    },
    "papermill": {
     "duration": 1189.816295,
     "end_time": "2024-11-15T14:25:10.638403",
     "exception": false,
     "start_time": "2024-11-15T14:05:20.822108",
     "status": "completed"
    },
    "tags": []
   },
   "outputs": [
    {
     "name": "stdout",
     "output_type": "stream",
     "text": [
      "Boosting Model Accuracy: 0.7498\n",
      "Precision : 0.7513469166956932\n",
      "Recall : 0.7498283808963421\n",
      "Weighted F1-Score :0.7490022386431485\n"
     ]
    }
   ],
   "source": [
    "XGB_model=XGBClassifier(learning_rate=0.2, max_depth=7, n_estimators=250, random_state=101)\n",
    "\n",
    "# Train the bagging model\n",
    "XGB_model.fit(x_train_resampled, y_train_resampled)\n",
    "\n",
    "# Predict using the bagging model\n",
    "y_pred_XGB = XGB_model.predict(x_test_tfidf)\n",
    "\n",
    "# Calculate accuracy\n",
    "accuracy_boosting = accuracy_score(y_test, y_pred_XGB)\n",
    "print(f\"Boosting Model Accuracy: {accuracy_boosting:.4f}\")\n",
    "print(f\"Precision : {precision_score(y_test,y_pred_XGB,average='weighted')}\")\n",
    "print(f\"Recall : {recall_score(y_test,y_pred_XGB,average='weighted')}\")\n",
    "print(f\"Weighted F1-Score :{f1_score(y_test,y_pred_XGB,average='weighted')}\")"
   ]
  },
  {
   "cell_type": "code",
   "execution_count": 36,
   "id": "54973f9e",
   "metadata": {
    "execution": {
     "iopub.execute_input": "2024-11-15T14:25:10.678181Z",
     "iopub.status.busy": "2024-11-15T14:25:10.677399Z",
     "iopub.status.idle": "2024-11-15T14:25:10.688073Z",
     "shell.execute_reply": "2024-11-15T14:25:10.686660Z"
    },
    "papermill": {
     "duration": 0.033203,
     "end_time": "2024-11-15T14:25:10.690473",
     "exception": false,
     "start_time": "2024-11-15T14:25:10.657270",
     "status": "completed"
    },
    "tags": []
   },
   "outputs": [
    {
     "name": "stdout",
     "output_type": "stream",
     "text": [
      "[[ 599   12   37   27    3   31   15]\n",
      " [  10  426   61   21    4   15   20]\n",
      " [  69   84 1914  150   27   96  669]\n",
      " [  32    6   60 2924    7  109   51]\n",
      " [   9    3   34   16  138   12   12]\n",
      " [  50    4   88   37    5  349   32]\n",
      " [  11   24  425  126    8   39 1296]]\n"
     ]
    }
   ],
   "source": [
    "print(confusion_matrix(y_test, y_pred_XGB))"
   ]
  },
  {
   "cell_type": "code",
   "execution_count": 37,
   "id": "61262a53",
   "metadata": {
    "execution": {
     "iopub.execute_input": "2024-11-15T14:25:10.730360Z",
     "iopub.status.busy": "2024-11-15T14:25:10.729893Z",
     "iopub.status.idle": "2024-11-15T14:47:57.134357Z",
     "shell.execute_reply": "2024-11-15T14:47:57.133447Z"
    },
    "papermill": {
     "duration": 1366.44714,
     "end_time": "2024-11-15T14:47:57.156571",
     "exception": false,
     "start_time": "2024-11-15T14:25:10.709431",
     "status": "completed"
    },
    "tags": []
   },
   "outputs": [
    {
     "name": "stdout",
     "output_type": "stream",
     "text": [
      "Boosting Model Accuracy: 0.7533\n"
     ]
    }
   ],
   "source": [
    "XGB_model=XGBClassifier(learning_rate=0.2, max_depth=7, n_estimators=300, random_state=101)\n",
    "\n",
    "# Train the bagging model\n",
    "XGB_model.fit(x_train_resampled, y_train_resampled)\n",
    "\n",
    "# Predict using the bagging model\n",
    "y_pred_XGB = XGB_model.predict(x_test_tfidf)\n",
    "\n",
    "# Calculate accuracy\n",
    "accuracy_boosting = accuracy_score(y_test, y_pred_XGB)\n",
    "print(f\"Boosting Model Accuracy: {accuracy_boosting:.4f}\")"
   ]
  },
  {
   "cell_type": "code",
   "execution_count": 38,
   "id": "43aa7f95",
   "metadata": {
    "execution": {
     "iopub.execute_input": "2024-11-15T14:47:57.196402Z",
     "iopub.status.busy": "2024-11-15T14:47:57.195982Z",
     "iopub.status.idle": "2024-11-15T14:47:57.206251Z",
     "shell.execute_reply": "2024-11-15T14:47:57.204832Z"
    },
    "papermill": {
     "duration": 0.033244,
     "end_time": "2024-11-15T14:47:57.208709",
     "exception": false,
     "start_time": "2024-11-15T14:47:57.175465",
     "status": "completed"
    },
    "tags": []
   },
   "outputs": [
    {
     "name": "stdout",
     "output_type": "stream",
     "text": [
      "[[ 597   12   41   27    3   29   15]\n",
      " [  11  425   61   22    3   14   21]\n",
      " [  65   78 1949  148   26   86  657]\n",
      " [  30    5   63 2926    6  106   53]\n",
      " [  10    4   40   15  135   10   10]\n",
      " [  48    4   87   38    2  352   34]\n",
      " [  11   24  436  119    7   35 1297]]\n"
     ]
    }
   ],
   "source": [
    "print(confusion_matrix(y_test, y_pred_XGB))"
   ]
  },
  {
   "cell_type": "code",
   "execution_count": 39,
   "id": "d431da6a",
   "metadata": {
    "execution": {
     "iopub.execute_input": "2024-11-15T14:47:57.249271Z",
     "iopub.status.busy": "2024-11-15T14:47:57.248401Z",
     "iopub.status.idle": "2024-11-15T14:47:57.293044Z",
     "shell.execute_reply": "2024-11-15T14:47:57.291850Z"
    },
    "papermill": {
     "duration": 0.06802,
     "end_time": "2024-11-15T14:47:57.295662",
     "exception": false,
     "start_time": "2024-11-15T14:47:57.227642",
     "status": "completed"
    },
    "tags": []
   },
   "outputs": [],
   "source": [
    "# Open the file in write-binary mode\n",
    "with open('XGB_model_kaggle.pkl', 'wb') as file:\n",
    "    # Dump the model to the file\n",
    "    pickle.dump(XGB_model, file)"
   ]
  },
  {
   "cell_type": "code",
   "execution_count": 40,
   "id": "ab506e8b",
   "metadata": {
    "execution": {
     "iopub.execute_input": "2024-11-15T14:47:57.335991Z",
     "iopub.status.busy": "2024-11-15T14:47:57.334945Z",
     "iopub.status.idle": "2024-11-15T15:16:07.113977Z",
     "shell.execute_reply": "2024-11-15T15:16:07.108820Z"
    },
    "papermill": {
     "duration": 1689.826424,
     "end_time": "2024-11-15T15:16:07.141200",
     "exception": false,
     "start_time": "2024-11-15T14:47:57.314776",
     "status": "completed"
    },
    "tags": []
   },
   "outputs": [
    {
     "name": "stdout",
     "output_type": "stream",
     "text": [
      "Boosting Model Accuracy: 0.7570\n"
     ]
    }
   ],
   "source": [
    "XGB_model=XGBClassifier(learning_rate=0.2, max_depth=7, n_estimators=400, random_state=101)\n",
    "\n",
    "# Train the bagging model\n",
    "XGB_model.fit(x_train_resampled, y_train_resampled)\n",
    "\n",
    "# Predict using the bagging model\n",
    "y_pred_XGB = XGB_model.predict(x_test_tfidf)\n",
    "\n",
    "# Calculate accuracy\n",
    "accuracy_boosting = accuracy_score(y_test, y_pred_XGB)\n",
    "print(f\"Boosting Model Accuracy: {accuracy_boosting:.4f}\")"
   ]
  },
  {
   "cell_type": "code",
   "execution_count": 41,
   "id": "1f237b31",
   "metadata": {
    "execution": {
     "iopub.execute_input": "2024-11-15T15:16:07.183033Z",
     "iopub.status.busy": "2024-11-15T15:16:07.182584Z",
     "iopub.status.idle": "2024-11-15T15:16:07.192764Z",
     "shell.execute_reply": "2024-11-15T15:16:07.191522Z"
    },
    "papermill": {
     "duration": 0.034219,
     "end_time": "2024-11-15T15:16:07.195739",
     "exception": false,
     "start_time": "2024-11-15T15:16:07.161520",
     "status": "completed"
    },
    "tags": []
   },
   "outputs": [
    {
     "name": "stdout",
     "output_type": "stream",
     "text": [
      "[[ 597   11   43   26    2   28   17]\n",
      " [  11  428   64   21    3   11   19]\n",
      " [  66   65 2000  137   19   72  650]\n",
      " [  28    6   69 2927    5  103   51]\n",
      " [   9    3   42   15  133   10   12]\n",
      " [  45    6   95   43    3  337   36]\n",
      " [  11   21  453  111    3   33 1297]]\n"
     ]
    }
   ],
   "source": [
    "print(confusion_matrix(y_test, y_pred_XGB))"
   ]
  },
  {
   "cell_type": "code",
   "execution_count": 42,
   "id": "a665b17f",
   "metadata": {
    "execution": {
     "iopub.execute_input": "2024-11-15T15:16:07.242443Z",
     "iopub.status.busy": "2024-11-15T15:16:07.241308Z",
     "iopub.status.idle": "2024-11-15T15:16:07.330188Z",
     "shell.execute_reply": "2024-11-15T15:16:07.328982Z"
    },
    "papermill": {
     "duration": 0.112774,
     "end_time": "2024-11-15T15:16:07.332893",
     "exception": false,
     "start_time": "2024-11-15T15:16:07.220119",
     "status": "completed"
    },
    "tags": []
   },
   "outputs": [],
   "source": [
    "# Open the file in write-binary mode\n",
    "with open('new_XGB_model_kaggle.pkl', 'wb') as file:\n",
    "    # Dump the model to the file\n",
    "    pickle.dump(XGB_model, file)"
   ]
  }
 ],
 "metadata": {
  "kaggle": {
   "accelerator": "none",
   "dataSources": [
    {
     "datasetId": 5973770,
     "sourceId": 9756221,
     "sourceType": "datasetVersion"
    }
   ],
   "dockerImageVersionId": 30786,
   "isGpuEnabled": false,
   "isInternetEnabled": true,
   "language": "python",
   "sourceType": "notebook"
  },
  "kernelspec": {
   "display_name": "Python 3",
   "language": "python",
   "name": "python3"
  },
  "language_info": {
   "codemirror_mode": {
    "name": "ipython",
    "version": 3
   },
   "file_extension": ".py",
   "mimetype": "text/x-python",
   "name": "python",
   "nbconvert_exporter": "python",
   "pygments_lexer": "ipython3",
   "version": "3.10.14"
  },
  "papermill": {
   "default_parameters": {},
   "duration": 6731.327796,
   "end_time": "2024-11-15T15:16:08.478424",
   "environment_variables": {},
   "exception": null,
   "input_path": "__notebook__.ipynb",
   "output_path": "__notebook__.ipynb",
   "parameters": {},
   "start_time": "2024-11-15T13:23:57.150628",
   "version": "2.6.0"
  }
 },
 "nbformat": 4,
 "nbformat_minor": 5
}
