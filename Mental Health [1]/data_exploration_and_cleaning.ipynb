{
 "cells": [
  {
   "cell_type": "code",
   "execution_count": 1,
   "id": "2f4a3597-e45c-4efa-8fe8-ad8787b6ad5f",
   "metadata": {},
   "outputs": [],
   "source": [
    "import numpy as np\n",
    "import pandas as pd\n",
    "import seaborn as sns\n",
    "import matplotlib.pyplot as plt\n",
    "import contractions\n",
    "import nltk\n",
    "# nltk.download('punkt')\n",
    "from nltk.tokenize import sent_tokenize, word_tokenize\n",
    "import re\n",
    "# nltk.download('stopwords')\n",
    "from nltk.corpus import stopwords"
   ]
  },
  {
   "cell_type": "code",
   "execution_count": 3,
   "id": "e6705358-02df-4650-9618-605036900080",
   "metadata": {},
   "outputs": [
    {
     "data": {
      "text/html": [
       "<div>\n",
       "<style scoped>\n",
       "    .dataframe tbody tr th:only-of-type {\n",
       "        vertical-align: middle;\n",
       "    }\n",
       "\n",
       "    .dataframe tbody tr th {\n",
       "        vertical-align: top;\n",
       "    }\n",
       "\n",
       "    .dataframe thead th {\n",
       "        text-align: right;\n",
       "    }\n",
       "</style>\n",
       "<table border=\"1\" class=\"dataframe\">\n",
       "  <thead>\n",
       "    <tr style=\"text-align: right;\">\n",
       "      <th></th>\n",
       "      <th>Unnamed: 0</th>\n",
       "      <th>statement</th>\n",
       "      <th>status</th>\n",
       "    </tr>\n",
       "  </thead>\n",
       "  <tbody>\n",
       "    <tr>\n",
       "      <th>0</th>\n",
       "      <td>0</td>\n",
       "      <td>oh my gosh</td>\n",
       "      <td>Anxiety</td>\n",
       "    </tr>\n",
       "    <tr>\n",
       "      <th>1</th>\n",
       "      <td>1</td>\n",
       "      <td>trouble sleeping, confused mind, restless hear...</td>\n",
       "      <td>Anxiety</td>\n",
       "    </tr>\n",
       "    <tr>\n",
       "      <th>2</th>\n",
       "      <td>2</td>\n",
       "      <td>All wrong, back off dear, forward doubt. Stay ...</td>\n",
       "      <td>Anxiety</td>\n",
       "    </tr>\n",
       "    <tr>\n",
       "      <th>3</th>\n",
       "      <td>3</td>\n",
       "      <td>I've shifted my focus to something else but I'...</td>\n",
       "      <td>Anxiety</td>\n",
       "    </tr>\n",
       "    <tr>\n",
       "      <th>4</th>\n",
       "      <td>4</td>\n",
       "      <td>I'm restless and restless, it's been a month n...</td>\n",
       "      <td>Anxiety</td>\n",
       "    </tr>\n",
       "    <tr>\n",
       "      <th>...</th>\n",
       "      <td>...</td>\n",
       "      <td>...</td>\n",
       "      <td>...</td>\n",
       "    </tr>\n",
       "    <tr>\n",
       "      <th>53038</th>\n",
       "      <td>53038</td>\n",
       "      <td>Nobody takes me seriously I’ve (24M) dealt wit...</td>\n",
       "      <td>Anxiety</td>\n",
       "    </tr>\n",
       "    <tr>\n",
       "      <th>53039</th>\n",
       "      <td>53039</td>\n",
       "      <td>selfishness  \"I don't feel very good, it's lik...</td>\n",
       "      <td>Anxiety</td>\n",
       "    </tr>\n",
       "    <tr>\n",
       "      <th>53040</th>\n",
       "      <td>53040</td>\n",
       "      <td>Is there any way to sleep better? I can't slee...</td>\n",
       "      <td>Anxiety</td>\n",
       "    </tr>\n",
       "    <tr>\n",
       "      <th>53041</th>\n",
       "      <td>53041</td>\n",
       "      <td>Public speaking tips? Hi, all. I have to give ...</td>\n",
       "      <td>Anxiety</td>\n",
       "    </tr>\n",
       "    <tr>\n",
       "      <th>53042</th>\n",
       "      <td>53042</td>\n",
       "      <td>I have really bad door anxiety! It's not about...</td>\n",
       "      <td>Anxiety</td>\n",
       "    </tr>\n",
       "  </tbody>\n",
       "</table>\n",
       "<p>53043 rows × 3 columns</p>\n",
       "</div>"
      ],
      "text/plain": [
       "       Unnamed: 0                                          statement   status\n",
       "0               0                                         oh my gosh  Anxiety\n",
       "1               1  trouble sleeping, confused mind, restless hear...  Anxiety\n",
       "2               2  All wrong, back off dear, forward doubt. Stay ...  Anxiety\n",
       "3               3  I've shifted my focus to something else but I'...  Anxiety\n",
       "4               4  I'm restless and restless, it's been a month n...  Anxiety\n",
       "...           ...                                                ...      ...\n",
       "53038       53038  Nobody takes me seriously I’ve (24M) dealt wit...  Anxiety\n",
       "53039       53039  selfishness  \"I don't feel very good, it's lik...  Anxiety\n",
       "53040       53040  Is there any way to sleep better? I can't slee...  Anxiety\n",
       "53041       53041  Public speaking tips? Hi, all. I have to give ...  Anxiety\n",
       "53042       53042  I have really bad door anxiety! It's not about...  Anxiety\n",
       "\n",
       "[53043 rows x 3 columns]"
      ]
     },
     "execution_count": 3,
     "metadata": {},
     "output_type": "execute_result"
    }
   ],
   "source": [
    "df=pd.read_csv(\"dataset.csv\")\n",
    "df"
   ]
  },
  {
   "cell_type": "code",
   "execution_count": 5,
   "id": "fbb0b7d1-da22-452f-911e-6074183bf02c",
   "metadata": {},
   "outputs": [],
   "source": [
    "df.drop('Unnamed: 0',inplace=True,axis=1)"
   ]
  },
  {
   "cell_type": "code",
   "execution_count": 7,
   "id": "699f3cab-d279-44d5-a518-46d4093f917a",
   "metadata": {},
   "outputs": [
    {
     "data": {
      "text/plain": [
       "status\n",
       "Normal                  16351\n",
       "Depression              15404\n",
       "Suicidal                10653\n",
       "Anxiety                  3888\n",
       "Bipolar                  2877\n",
       "Stress                   2669\n",
       "Personality disorder     1201\n",
       "Name: count, dtype: int64"
      ]
     },
     "execution_count": 7,
     "metadata": {},
     "output_type": "execute_result"
    }
   ],
   "source": [
    "df['status'].value_counts()"
   ]
  },
  {
   "cell_type": "code",
   "execution_count": 9,
   "id": "49b457f7-e994-43c0-b6a7-6886a575b83d",
   "metadata": {},
   "outputs": [
    {
     "data": {
      "text/plain": [
       "statement    362\n",
       "status         0\n",
       "dtype: int64"
      ]
     },
     "execution_count": 9,
     "metadata": {},
     "output_type": "execute_result"
    }
   ],
   "source": [
    "df.isnull().sum()"
   ]
  },
  {
   "cell_type": "code",
   "execution_count": 11,
   "id": "c072fb1c-07c6-46ed-b3de-83589553b8a6",
   "metadata": {},
   "outputs": [],
   "source": [
    "df.drop(df[df['statement'].isnull()==True].index,axis=0,inplace=True)"
   ]
  },
  {
   "cell_type": "code",
   "execution_count": 13,
   "id": "cb319655-6d93-43d8-9e2d-35a61685fa6c",
   "metadata": {},
   "outputs": [
    {
     "data": {
      "text/plain": [
       "statement    0\n",
       "status       0\n",
       "dtype: int64"
      ]
     },
     "execution_count": 13,
     "metadata": {},
     "output_type": "execute_result"
    }
   ],
   "source": [
    "df.isnull().sum()"
   ]
  },
  {
   "cell_type": "code",
   "execution_count": 15,
   "id": "d8765763-d5c5-4cdd-8332-3696ed9868cc",
   "metadata": {},
   "outputs": [
    {
     "data": {
      "text/plain": [
       "(52681, 2)"
      ]
     },
     "execution_count": 15,
     "metadata": {},
     "output_type": "execute_result"
    }
   ],
   "source": [
    "df.shape"
   ]
  },
  {
   "cell_type": "code",
   "execution_count": 17,
   "id": "9ee1dc3c-6e76-4b2e-b7a0-b47d8c4bf419",
   "metadata": {},
   "outputs": [
    {
     "name": "stderr",
     "output_type": "stream",
     "text": [
      "C:\\Users\\HP\\AppData\\Local\\Temp\\ipykernel_3092\\2543668181.py:2: FutureWarning: \n",
      "\n",
      "Passing `palette` without assigning `hue` is deprecated and will be removed in v0.14.0. Assign the `x` variable to `hue` and set `legend=False` for the same effect.\n",
      "\n",
      "  ax=sns.countplot(x='status',data=df,palette='Set2')\n"
     ]
    },
    {
     "data": {
      "image/png": "[encoded data removed]",
      "text/plain": [
       "<Figure size 1000x500 with 1 Axes>"
      ]
     },
     "metadata": {},
     "output_type": "display_data"
    }
   ],
   "source": [
    "plt.figure(figsize=(10,5))\n",
    "ax=sns.countplot(x='status',data=df,palette='Set2')\n",
    "for p in ax.patches:\n",
    "    ax.annotate(f'{p.get_height()}',  \n",
    "                (p.get_x() + p.get_width() / 2, p.get_height()),  \n",
    "                ha='center',  \n",
    "                va='bottom',  \n",
    "                fontsize=10,  \n",
    "                color='black') \n",
    "plt.title(\"Status Distribution\")\n",
    "plt.xlabel('Type of Sentiment')\n",
    "plt.ylabel('Count')\n",
    "#plt.grid()\n",
    "plt.show()"
   ]
  },
  {
   "cell_type": "markdown",
   "id": "0601477f-be28-4333-b2ab-de60ecaa47c2",
   "metadata": {},
   "source": [
    "max status in the dataset is normal followed by deprrssion and sucidal"
   ]
  },
  {
   "cell_type": "code",
   "execution_count": 19,
   "id": "3da0c86b-84f2-4263-bdd3-8cb720c67b33",
   "metadata": {},
   "outputs": [
    {
     "data": {
      "text/html": [
       "<div>\n",
       "<style scoped>\n",
       "    .dataframe tbody tr th:only-of-type {\n",
       "        vertical-align: middle;\n",
       "    }\n",
       "\n",
       "    .dataframe tbody tr th {\n",
       "        vertical-align: top;\n",
       "    }\n",
       "\n",
       "    .dataframe thead th {\n",
       "        text-align: right;\n",
       "    }\n",
       "</style>\n",
       "<table border=\"1\" class=\"dataframe\">\n",
       "  <thead>\n",
       "    <tr style=\"text-align: right;\">\n",
       "      <th></th>\n",
       "      <th>statement</th>\n",
       "      <th>status</th>\n",
       "    </tr>\n",
       "  </thead>\n",
       "  <tbody>\n",
       "    <tr>\n",
       "      <th>0</th>\n",
       "      <td>oh my gosh</td>\n",
       "      <td>Anxiety</td>\n",
       "    </tr>\n",
       "    <tr>\n",
       "      <th>1</th>\n",
       "      <td>trouble sleeping, confused mind, restless hear...</td>\n",
       "      <td>Anxiety</td>\n",
       "    </tr>\n",
       "    <tr>\n",
       "      <th>2</th>\n",
       "      <td>All wrong, back off dear, forward doubt. Stay ...</td>\n",
       "      <td>Anxiety</td>\n",
       "    </tr>\n",
       "    <tr>\n",
       "      <th>3</th>\n",
       "      <td>I've shifted my focus to something else but I'...</td>\n",
       "      <td>Anxiety</td>\n",
       "    </tr>\n",
       "    <tr>\n",
       "      <th>4</th>\n",
       "      <td>I'm restless and restless, it's been a month n...</td>\n",
       "      <td>Anxiety</td>\n",
       "    </tr>\n",
       "  </tbody>\n",
       "</table>\n",
       "</div>"
      ],
      "text/plain": [
       "                                           statement   status\n",
       "0                                         oh my gosh  Anxiety\n",
       "1  trouble sleeping, confused mind, restless hear...  Anxiety\n",
       "2  All wrong, back off dear, forward doubt. Stay ...  Anxiety\n",
       "3  I've shifted my focus to something else but I'...  Anxiety\n",
       "4  I'm restless and restless, it's been a month n...  Anxiety"
      ]
     },
     "execution_count": 19,
     "metadata": {},
     "output_type": "execute_result"
    }
   ],
   "source": [
    "df.head(5)"
   ]
  },
  {
   "cell_type": "code",
   "execution_count": 21,
   "id": "327ab63f-1321-4694-be86-6e38e72fee10",
   "metadata": {},
   "outputs": [
    {
     "name": "stdout",
     "output_type": "stream",
     "text": [
      "       num_of_characters  num_of_sentences\n",
      "count       52681.000000      52681.000000\n",
      "mean          578.713863          6.280215\n",
      "std           846.269078         10.688388\n",
      "min             2.000000          1.000000\n",
      "25%            80.000000          1.000000\n",
      "50%           317.000000          3.000000\n",
      "75%           752.000000          8.000000\n",
      "max         32759.000000       1260.000000\n"
     ]
    }
   ],
   "source": [
    "# Calculate the number of characters and sentences\n",
    "df['num_of_characters'] = df['statement'].str.len()\n",
    "df['num_of_sentences'] = df['statement'].apply(lambda x: len(nltk.sent_tokenize(x)))\n",
    "\n",
    "# Generate descriptive statistics\n",
    "description = df[['num_of_characters', 'num_of_sentences']].describe()\n",
    "\n",
    "# Display the descriptive statistics\n",
    "print(description)"
   ]
  },
  {
   "cell_type": "code",
   "execution_count": 23,
   "id": "8e978535-5eb4-43b8-b771-1509bab66454",
   "metadata": {},
   "outputs": [
    {
     "name": "stdout",
     "output_type": "stream",
     "text": [
      "0                                               oh my gosh\n",
      "1        trouble sleeping, confused mind, restless hear...\n",
      "2        all wrong, back off dear, forward doubt. stay ...\n",
      "3        i've shifted my focus to something else but i'...\n",
      "4        i'm restless and restless, it's been a month n...\n",
      "                               ...                        \n",
      "53038    nobody takes me seriously i’ve (24m) dealt wit...\n",
      "53039    selfishness  \"i don't feel very good, it's lik...\n",
      "53040    is there any way to sleep better? i can't slee...\n",
      "53041    public speaking tips? hi, all. i have to give ...\n",
      "53042    i have really bad door anxiety! it's not about...\n",
      "Name: cleaned_statement, Length: 52681, dtype: object\n",
      "0        anxiety\n",
      "1        anxiety\n",
      "2        anxiety\n",
      "3        anxiety\n",
      "4        anxiety\n",
      "          ...   \n",
      "53038    anxiety\n",
      "53039    anxiety\n",
      "53040    anxiety\n",
      "53041    anxiety\n",
      "53042    anxiety\n",
      "Name: status, Length: 52681, dtype: object\n"
     ]
    }
   ],
   "source": [
    "def to_lowercase(text):\n",
    "    return text.lower()\n",
    "\n",
    "df['cleaned_statement'] = df['statement'].apply(lambda x: to_lowercase(x))\n",
    "df['status'] = df['status'].apply(lambda x: to_lowercase(x))\n",
    "print(df['cleaned_statement']) \n",
    "print(df['status'])"
   ]
  },
  {
   "cell_type": "code",
   "execution_count": 25,
   "id": "78b31cbd-3966-4b90-af3d-72549c7e3a2f",
   "metadata": {},
   "outputs": [
    {
     "data": {
      "text/plain": [
       "0                                               oh my gosh\n",
       "1        trouble sleeping, confused mind, restless hear...\n",
       "2        all wrong, back off dear, forward doubt. stay ...\n",
       "3        i've shifted my focus to something else but i'...\n",
       "4        i'm restless and restless, it's been a month n...\n",
       "                               ...                        \n",
       "53038    nobody takes me seriously i’ve (m) dealt with ...\n",
       "53039    selfishness  \"i don't feel very good, it's lik...\n",
       "53040    is there any way to sleep better? i can't slee...\n",
       "53041    public speaking tips? hi, all. i have to give ...\n",
       "53042    i have really bad door anxiety! it's not about...\n",
       "Name: cleaned_statement, Length: 52681, dtype: object"
      ]
     },
     "execution_count": 25,
     "metadata": {},
     "output_type": "execute_result"
    }
   ],
   "source": [
    "def remove_numeric(text):\n",
    "    return re.sub(r'\\d+', '', text)\n",
    "\n",
    "df['cleaned_statement'] = df['cleaned_statement'].apply(remove_numeric)\n",
    "df['cleaned_statement']"
   ]
  },
  {
   "cell_type": "code",
   "execution_count": null,
   "id": "9a20d073-6483-4294-8774-db571fb6446d",
   "metadata": {},
   "outputs": [],
   "source": []
  },
  {
   "cell_type": "code",
   "execution_count": 27,
   "id": "3480416a-72cb-402c-8ac6-fd98d1cc4419",
   "metadata": {},
   "outputs": [
    {
     "data": {
      "text/plain": [
       "0                                               oh my gosh\n",
       "1        trouble sleeping, confused mind, restless hear...\n",
       "2        all wrong, back off dear, forward doubt. stay ...\n",
       "3        i have shifted my focus to something else but ...\n",
       "4        i am restless and restless, it is been a month...\n",
       "                               ...                        \n",
       "53038    nobody takes me seriously i have (m) dealt wit...\n",
       "53039    selfishness  \"i do not feel very good, it is l...\n",
       "53040    is there any way to sleep better? i cannot sle...\n",
       "53041    public speaking tips? hi, all. i have to give ...\n",
       "53042    i have really bad door anxiety! it is not abou...\n",
       "Name: cleaned_statement, Length: 52681, dtype: object"
      ]
     },
     "execution_count": 27,
     "metadata": {},
     "output_type": "execute_result"
    }
   ],
   "source": [
    "def expand(text):\n",
    "    expanded_text = contractions.fix(text)\n",
    "    return expanded_text\n",
    "\n",
    "df['cleaned_statement'] = df['cleaned_statement'].apply(lambda x: expand(x))\n",
    "\n",
    "df['cleaned_statement'] "
   ]
  },
  {
   "cell_type": "code",
   "execution_count": 29,
   "id": "be8e8793-c9b3-47ed-a1be-7d833a187b40",
   "metadata": {},
   "outputs": [
    {
     "name": "stdout",
     "output_type": "stream",
     "text": [
      "Statements after removing punctuation and special characters:\n",
      " 0                                               oh my gosh\n",
      "1        trouble sleeping confused mind restless heart ...\n",
      "2        all wrong back off dear forward doubt stay in ...\n",
      "3        i have shifted my focus to something else but ...\n",
      "4        i am restless and restless it is been a month ...\n",
      "                               ...                        \n",
      "53038    nobody takes me seriously i have m dealt with ...\n",
      "53039    selfishness  i do not feel very good it is lik...\n",
      "53040    is there any way to sleep better i cannot slee...\n",
      "53041    public speaking tips hi all i have to give a p...\n",
      "53042    i have really bad door anxiety it is not about...\n",
      "Name: cleaned_statement, Length: 52681, dtype: object\n"
     ]
    }
   ],
   "source": [
    "# Function to remove punctuation, special characters and other unwanted symbols\n",
    "def remove_punctuatiom_special_char(sentence):\n",
    "    return re.sub(r'[^A-Za-z0-9\\s]+', '', sentence)\n",
    "\n",
    "# Apply the cleaning function to each statement in the DataFrame\n",
    "df['cleaned_statement'] = df['cleaned_statement'].apply(lambda x: remove_punctuatiom_special_char(x))\n",
    "\n",
    "# Display the cleaned statements\n",
    "print(\"Statements after removing punctuation and special characters:\\n\", df['cleaned_statement'])\n"
   ]
  },
  {
   "cell_type": "code",
   "execution_count": 31,
   "id": "6f4b1899-1eff-43c5-821c-208e4c55d0bf",
   "metadata": {},
   "outputs": [
    {
     "name": "stdout",
     "output_type": "stream",
     "text": [
      "Statements after removing alphanumeric words:\n",
      " 0                                               oh my gosh\n",
      "1        trouble sleeping confused mind restless heart ...\n",
      "2        all wrong back off dear forward doubt stay in ...\n",
      "3        i have shifted my focus to something else but ...\n",
      "4        i am restless and restless it is been a month ...\n",
      "                               ...                        \n",
      "53038    nobody takes me seriously i have m dealt with ...\n",
      "53039    selfishness i do not feel very good it is like...\n",
      "53040    is there any way to sleep better i cannot slee...\n",
      "53041    public speaking tips hi all i have to give a p...\n",
      "53042    i have really bad door anxiety it is not about...\n",
      "Name: cleaned_statement, Length: 52681, dtype: object\n"
     ]
    }
   ],
   "source": [
    "# Function to remove words containing both alphabets and numbers\n",
    "def remove_alphanumeric_words(sentence):\n",
    "    # Split the sentence into words and filter out alphanumeric words\n",
    "    words = sentence.split()\n",
    "    cleaned_words = [word for word in words if not re.search(r'[A-Za-z]', word) or not re.search(r'[0-9]', word)]\n",
    "    return ' '.join(cleaned_words)\n",
    "\n",
    "# Apply the function to the 'statement' column in the DataFrame\n",
    "df['cleaned_statement'] = df['cleaned_statement'].apply(lambda x: remove_alphanumeric_words(x))\n",
    "\n",
    "# Display the cleaned statements\n",
    "print(\"Statements after removing alphanumeric words:\\n\", df['cleaned_statement'])\n"
   ]
  },
  {
   "cell_type": "code",
   "execution_count": 33,
   "id": "30b10f62-416b-48ea-8e16-0367b1d2926b",
   "metadata": {},
   "outputs": [
    {
     "name": "stdout",
     "output_type": "stream",
     "text": [
      "Tokenized and joined sentences:\n",
      " 0                                               oh my gosh\n",
      "1        trouble sleeping confused mind restless heart ...\n",
      "2        all wrong back off dear forward doubt stay in ...\n",
      "3        i have shifted my focus to something else but ...\n",
      "4        i am restless and restless it is been a month ...\n",
      "                               ...                        \n",
      "53038    nobody takes me seriously i have m dealt with ...\n",
      "53039    selfishness i do not feel very good it is like...\n",
      "53040    is there any way to sleep better i can not sle...\n",
      "53041    public speaking tips hi all i have to give a p...\n",
      "53042    i have really bad door anxiety it is not about...\n",
      "Name: cleaned_statement, Length: 52681, dtype: object\n"
     ]
    }
   ],
   "source": [
    "# Function to tokenize and then join back as a sentence\n",
    "\n",
    "def tokenize_and_join(text):\n",
    "    # Tokenize into sentences, then words\n",
    "    sentences = sent_tokenize(text)\n",
    "    tokenized_sentences = [' '.join(word_tokenize(sentence)) for sentence in sentences] \n",
    "    return ' '.join(tokenized_sentences)  # Join all tokenized sentences back into a single string\n",
    "\n",
    "# Apply the function to the 'statement' column in the DataFrame\n",
    "df['cleaned_statement'] = df['cleaned_statement'].apply(lambda x: tokenize_and_join(x))\n",
    "\n",
    "# Display the tokenized and joined sentences\n",
    "print(\"Tokenized and joined sentences:\\n\", df['cleaned_statement'])\n"
   ]
  },
  {
   "cell_type": "code",
   "execution_count": 39,
   "id": "502a90b3-8c20-4337-b4a2-a0b26d96a220",
   "metadata": {},
   "outputs": [
    {
     "data": {
      "text/plain": [
       "0                                               oh my gosh\n",
       "1        troubl sleep confus mind restless heart all ou...\n",
       "2        all wrong back off dear forward doubt stay in ...\n",
       "3        i have shift my focu to someth els but i am st...\n",
       "4        i am restless and restless it is been a month ...\n",
       "                               ...                        \n",
       "53038    nobodi take me serious i have m dealt with dep...\n",
       "53039    selfish i do not feel veri good it is like i d...\n",
       "53040    is there ani way to sleep better i can not sle...\n",
       "53041    public speak tip hi all i have to give a prese...\n",
       "53042    i have realli bad door anxieti it is not about...\n",
       "Name: cleaned_statement, Length: 52681, dtype: object"
      ]
     },
     "execution_count": 39,
     "metadata": {},
     "output_type": "execute_result"
    }
   ],
   "source": [
    "from nltk.stem import PorterStemmer\n",
    "\n",
    "# Initialize the stemmer\n",
    "stemmer = PorterStemmer()\n",
    "\n",
    "# Function to stem each word in a sentence\n",
    "def stem_sentence(text):\n",
    "    words = word_tokenize(text)  # Tokenize into words\n",
    "    stemmed_words = [stemmer.stem(word) for word in words]  # Stem each word\n",
    "    return ' '.join(stemmed_words)  # Join stemmed words back into a sentence\n",
    "\n",
    "# Apply stemming to the 'cleaned_statement' column\n",
    "df['cleaned_statement'] = df['cleaned_statement'].apply(stem_sentence)\n",
    "\n",
    "df['cleaned_statement']"
   ]
  },
  {
   "cell_type": "code",
   "execution_count": 35,
   "id": "73232782-8bf1-479c-8c01-daf9c39a087c",
   "metadata": {},
   "outputs": [
    {
     "name": "stdout",
     "output_type": "stream",
     "text": [
      "Statements after stop words removal:\n",
      " 0                                                  oh gosh\n",
      "1        trouble sleeping confused mind restless heart ...\n",
      "2        wrong back dear forward doubt stay restless re...\n",
      "3               shifted focus something else still worried\n",
      "4                         restless restless month boy mean\n",
      "                               ...                        \n",
      "53038    nobody takes seriously dealt depressionanxiety...\n",
      "53039    selfishness feel good like belong world think ...\n",
      "53040              way sleep better sleep nights meds help\n",
      "53041    public speaking tips hi give presentation work...\n",
      "53042    really bad door anxiety scared lock door somet...\n",
      "Name: cleaned_statement, Length: 52681, dtype: object\n"
     ]
    }
   ],
   "source": [
    "#Removal of stopwaords\n",
    "\n",
    "# Initialize the set of English stop words\n",
    "stop_words = set(stopwords.words('english'))\n",
    "\n",
    "# Function to remove stop words from a sentence\n",
    "def remove_stop_words(sentence):\n",
    "    words = sentence.split()  # Split the sentence into words\n",
    "    filtered_words = [word for word in words if word not in stop_words]  # Filter out stop words\n",
    "    return ' '.join(filtered_words)  # Join the remaining words back into a sentence\n",
    "\n",
    "# Apply the function to the 'cleaned_statement' column in the DataFrame\n",
    "df['cleaned_statement'] = df['cleaned_statement'].apply(lambda x: remove_stop_words(x))\n",
    "\n",
    "# Display the statements without stop words\n",
    "print(\"Statements after stop words removal:\\n\", df['cleaned_statement'])\n"
   ]
  },
  {
   "cell_type": "code",
   "execution_count": 37,
   "id": "295591c2-595d-4389-85c7-c7754f423989",
   "metadata": {},
   "outputs": [
    {
     "name": "stdout",
     "output_type": "stream",
     "text": [
      "Lemmatized statements:\n",
      " 0                                               oh my gosh\n",
      "1        trouble sleep confuse mind restless heart all ...\n",
      "2        all wrong back off dear forward doubt stay in ...\n",
      "3        i have shift my focus to something else but i ...\n",
      "4        i be restless and restless it be be a month no...\n",
      "                               ...                        \n",
      "53038    nobody take me seriously i have m dealt with d...\n",
      "53039    selfishness i do not feel very good it be like...\n",
      "53040    be there any way to sleep good i can not sleep...\n",
      "53041    public speak tip hi all i have to give a prese...\n",
      "53042    i have really bad door anxiety it be not about...\n",
      "Name: cleaned_statement, Length: 52681, dtype: object\n"
     ]
    }
   ],
   "source": [
    "import nltk\n",
    "from nltk.stem import WordNetLemmatizer\n",
    "from nltk.corpus import wordnet\n",
    "\n",
    "# Ensure the necessary resources are downloaded\n",
    "# nltk.download('punkt')\n",
    "# nltk.download('wordnet')\n",
    "# nltk.download('averaged_perceptron_tagger')\n",
    "\n",
    "# Initialize the WordNetLemmatizer\n",
    "lemmatizer = WordNetLemmatizer()\n",
    "\n",
    "# Function to get the wordnet POS tag\n",
    "def get_wordnet_pos(treebank_tag):\n",
    "    if treebank_tag.startswith('J'):\n",
    "        return wordnet.ADJ\n",
    "    elif treebank_tag.startswith('V'):\n",
    "        return wordnet.VERB\n",
    "    elif treebank_tag.startswith('N'):\n",
    "        return wordnet.NOUN\n",
    "    elif treebank_tag.startswith('R'):\n",
    "        return wordnet.ADV\n",
    "    else:\n",
    "        return wordnet.NOUN  # Default to noun if no match\n",
    "\n",
    "# Function to lemmatize a sentence (word by word)\n",
    "def lemmatize_sentence(sentence):\n",
    "    words = nltk.word_tokenize(sentence)  # Tokenize the sentence\n",
    "    pos_tags = nltk.pos_tag(words)  # Get POS tags\n",
    "    lemmatized_words = [\n",
    "        lemmatizer.lemmatize(word, get_wordnet_pos(pos)) for word, pos in pos_tags\n",
    "    ]  # Lemmatize each word with its POS tag\n",
    "    return ' '.join(lemmatized_words)  # Join the lemmatized words back into a sentence\n",
    "\n",
    "# Apply the function to the 'cleaned_statement' column in the DataFrame\n",
    "df['cleaned_statement'] = df['cleaned_statement'].apply(lambda x: lemmatize_sentence(x))\n",
    "\n",
    "# Display the lemmatized statements\n",
    "print(\"Lemmatized statements:\\n\", df['cleaned_statement'])\n"
   ]
  },
  {
   "cell_type": "code",
   "execution_count": null,
   "id": "90778f26-9710-4a69-bf8b-180901e22d17",
   "metadata": {},
   "outputs": [],
   "source": []
  },
  {
   "cell_type": "code",
   "execution_count": 41,
   "id": "c1fbe457-3531-4715-899d-343b7b94a9ff",
   "metadata": {},
   "outputs": [
    {
     "data": {
      "text/html": [
       "<div>\n",
       "<style scoped>\n",
       "    .dataframe tbody tr th:only-of-type {\n",
       "        vertical-align: middle;\n",
       "    }\n",
       "\n",
       "    .dataframe tbody tr th {\n",
       "        vertical-align: top;\n",
       "    }\n",
       "\n",
       "    .dataframe thead th {\n",
       "        text-align: right;\n",
       "    }\n",
       "</style>\n",
       "<table border=\"1\" class=\"dataframe\">\n",
       "  <thead>\n",
       "    <tr style=\"text-align: right;\">\n",
       "      <th></th>\n",
       "      <th>statement</th>\n",
       "      <th>status</th>\n",
       "      <th>num_of_characters</th>\n",
       "      <th>num_of_sentences</th>\n",
       "      <th>cleaned_statement</th>\n",
       "    </tr>\n",
       "  </thead>\n",
       "  <tbody>\n",
       "    <tr>\n",
       "      <th>0</th>\n",
       "      <td>oh my gosh</td>\n",
       "      <td>anxiety</td>\n",
       "      <td>10</td>\n",
       "      <td>1</td>\n",
       "      <td>oh my gosh</td>\n",
       "    </tr>\n",
       "    <tr>\n",
       "      <th>1</th>\n",
       "      <td>trouble sleeping, confused mind, restless hear...</td>\n",
       "      <td>anxiety</td>\n",
       "      <td>64</td>\n",
       "      <td>2</td>\n",
       "      <td>troubl sleep confus mind restless heart all ou...</td>\n",
       "    </tr>\n",
       "    <tr>\n",
       "      <th>2</th>\n",
       "      <td>All wrong, back off dear, forward doubt. Stay ...</td>\n",
       "      <td>anxiety</td>\n",
       "      <td>78</td>\n",
       "      <td>2</td>\n",
       "      <td>all wrong back off dear forward doubt stay in ...</td>\n",
       "    </tr>\n",
       "    <tr>\n",
       "      <th>3</th>\n",
       "      <td>I've shifted my focus to something else but I'...</td>\n",
       "      <td>anxiety</td>\n",
       "      <td>61</td>\n",
       "      <td>1</td>\n",
       "      <td>i have shift my focu to someth els but i am st...</td>\n",
       "    </tr>\n",
       "    <tr>\n",
       "      <th>4</th>\n",
       "      <td>I'm restless and restless, it's been a month n...</td>\n",
       "      <td>anxiety</td>\n",
       "      <td>72</td>\n",
       "      <td>2</td>\n",
       "      <td>i am restless and restless it is been a month ...</td>\n",
       "    </tr>\n",
       "    <tr>\n",
       "      <th>...</th>\n",
       "      <td>...</td>\n",
       "      <td>...</td>\n",
       "      <td>...</td>\n",
       "      <td>...</td>\n",
       "      <td>...</td>\n",
       "    </tr>\n",
       "    <tr>\n",
       "      <th>53038</th>\n",
       "      <td>Nobody takes me seriously I’ve (24M) dealt wit...</td>\n",
       "      <td>anxiety</td>\n",
       "      <td>1766</td>\n",
       "      <td>16</td>\n",
       "      <td>nobodi take me serious i have m dealt with dep...</td>\n",
       "    </tr>\n",
       "    <tr>\n",
       "      <th>53039</th>\n",
       "      <td>selfishness  \"I don't feel very good, it's lik...</td>\n",
       "      <td>anxiety</td>\n",
       "      <td>1012</td>\n",
       "      <td>12</td>\n",
       "      <td>selfish i do not feel veri good it is like i d...</td>\n",
       "    </tr>\n",
       "    <tr>\n",
       "      <th>53040</th>\n",
       "      <td>Is there any way to sleep better? I can't slee...</td>\n",
       "      <td>anxiety</td>\n",
       "      <td>85</td>\n",
       "      <td>2</td>\n",
       "      <td>is there ani way to sleep better i can not sle...</td>\n",
       "    </tr>\n",
       "    <tr>\n",
       "      <th>53041</th>\n",
       "      <td>Public speaking tips? Hi, all. I have to give ...</td>\n",
       "      <td>anxiety</td>\n",
       "      <td>401</td>\n",
       "      <td>6</td>\n",
       "      <td>public speak tip hi all i have to give a prese...</td>\n",
       "    </tr>\n",
       "    <tr>\n",
       "      <th>53042</th>\n",
       "      <td>I have really bad door anxiety! It's not about...</td>\n",
       "      <td>anxiety</td>\n",
       "      <td>417</td>\n",
       "      <td>3</td>\n",
       "      <td>i have realli bad door anxieti it is not about...</td>\n",
       "    </tr>\n",
       "  </tbody>\n",
       "</table>\n",
       "<p>52681 rows × 5 columns</p>\n",
       "</div>"
      ],
      "text/plain": [
       "                                               statement   status  \\\n",
       "0                                             oh my gosh  anxiety   \n",
       "1      trouble sleeping, confused mind, restless hear...  anxiety   \n",
       "2      All wrong, back off dear, forward doubt. Stay ...  anxiety   \n",
       "3      I've shifted my focus to something else but I'...  anxiety   \n",
       "4      I'm restless and restless, it's been a month n...  anxiety   \n",
       "...                                                  ...      ...   \n",
       "53038  Nobody takes me seriously I’ve (24M) dealt wit...  anxiety   \n",
       "53039  selfishness  \"I don't feel very good, it's lik...  anxiety   \n",
       "53040  Is there any way to sleep better? I can't slee...  anxiety   \n",
       "53041  Public speaking tips? Hi, all. I have to give ...  anxiety   \n",
       "53042  I have really bad door anxiety! It's not about...  anxiety   \n",
       "\n",
       "       num_of_characters  num_of_sentences  \\\n",
       "0                     10                 1   \n",
       "1                     64                 2   \n",
       "2                     78                 2   \n",
       "3                     61                 1   \n",
       "4                     72                 2   \n",
       "...                  ...               ...   \n",
       "53038               1766                16   \n",
       "53039               1012                12   \n",
       "53040                 85                 2   \n",
       "53041                401                 6   \n",
       "53042                417                 3   \n",
       "\n",
       "                                       cleaned_statement  \n",
       "0                                             oh my gosh  \n",
       "1      troubl sleep confus mind restless heart all ou...  \n",
       "2      all wrong back off dear forward doubt stay in ...  \n",
       "3      i have shift my focu to someth els but i am st...  \n",
       "4      i am restless and restless it is been a month ...  \n",
       "...                                                  ...  \n",
       "53038  nobodi take me serious i have m dealt with dep...  \n",
       "53039  selfish i do not feel veri good it is like i d...  \n",
       "53040  is there ani way to sleep better i can not sle...  \n",
       "53041  public speak tip hi all i have to give a prese...  \n",
       "53042  i have realli bad door anxieti it is not about...  \n",
       "\n",
       "[52681 rows x 5 columns]"
      ]
     },
     "execution_count": 41,
     "metadata": {},
     "output_type": "execute_result"
    }
   ],
   "source": [
    "df"
   ]
  },
  {
   "cell_type": "code",
   "execution_count": 43,
   "id": "f3172d90-7a7a-442d-8e63-92a2ee46ead2",
   "metadata": {},
   "outputs": [
    {
     "data": {
      "text/html": [
       "<div>\n",
       "<style scoped>\n",
       "    .dataframe tbody tr th:only-of-type {\n",
       "        vertical-align: middle;\n",
       "    }\n",
       "\n",
       "    .dataframe tbody tr th {\n",
       "        vertical-align: top;\n",
       "    }\n",
       "\n",
       "    .dataframe thead th {\n",
       "        text-align: right;\n",
       "    }\n",
       "</style>\n",
       "<table border=\"1\" class=\"dataframe\">\n",
       "  <thead>\n",
       "    <tr style=\"text-align: right;\">\n",
       "      <th></th>\n",
       "      <th>status</th>\n",
       "      <th>num_of_characters</th>\n",
       "      <th>num_of_sentences</th>\n",
       "      <th>cleaned_statement</th>\n",
       "    </tr>\n",
       "  </thead>\n",
       "  <tbody>\n",
       "    <tr>\n",
       "      <th>0</th>\n",
       "      <td>anxiety</td>\n",
       "      <td>10</td>\n",
       "      <td>1</td>\n",
       "      <td>oh my gosh</td>\n",
       "    </tr>\n",
       "    <tr>\n",
       "      <th>1</th>\n",
       "      <td>anxiety</td>\n",
       "      <td>64</td>\n",
       "      <td>2</td>\n",
       "      <td>troubl sleep confus mind restless heart all ou...</td>\n",
       "    </tr>\n",
       "    <tr>\n",
       "      <th>2</th>\n",
       "      <td>anxiety</td>\n",
       "      <td>78</td>\n",
       "      <td>2</td>\n",
       "      <td>all wrong back off dear forward doubt stay in ...</td>\n",
       "    </tr>\n",
       "    <tr>\n",
       "      <th>3</th>\n",
       "      <td>anxiety</td>\n",
       "      <td>61</td>\n",
       "      <td>1</td>\n",
       "      <td>i have shift my focu to someth els but i am st...</td>\n",
       "    </tr>\n",
       "    <tr>\n",
       "      <th>4</th>\n",
       "      <td>anxiety</td>\n",
       "      <td>72</td>\n",
       "      <td>2</td>\n",
       "      <td>i am restless and restless it is been a month ...</td>\n",
       "    </tr>\n",
       "    <tr>\n",
       "      <th>...</th>\n",
       "      <td>...</td>\n",
       "      <td>...</td>\n",
       "      <td>...</td>\n",
       "      <td>...</td>\n",
       "    </tr>\n",
       "    <tr>\n",
       "      <th>53038</th>\n",
       "      <td>anxiety</td>\n",
       "      <td>1766</td>\n",
       "      <td>16</td>\n",
       "      <td>nobodi take me serious i have m dealt with dep...</td>\n",
       "    </tr>\n",
       "    <tr>\n",
       "      <th>53039</th>\n",
       "      <td>anxiety</td>\n",
       "      <td>1012</td>\n",
       "      <td>12</td>\n",
       "      <td>selfish i do not feel veri good it is like i d...</td>\n",
       "    </tr>\n",
       "    <tr>\n",
       "      <th>53040</th>\n",
       "      <td>anxiety</td>\n",
       "      <td>85</td>\n",
       "      <td>2</td>\n",
       "      <td>is there ani way to sleep better i can not sle...</td>\n",
       "    </tr>\n",
       "    <tr>\n",
       "      <th>53041</th>\n",
       "      <td>anxiety</td>\n",
       "      <td>401</td>\n",
       "      <td>6</td>\n",
       "      <td>public speak tip hi all i have to give a prese...</td>\n",
       "    </tr>\n",
       "    <tr>\n",
       "      <th>53042</th>\n",
       "      <td>anxiety</td>\n",
       "      <td>417</td>\n",
       "      <td>3</td>\n",
       "      <td>i have realli bad door anxieti it is not about...</td>\n",
       "    </tr>\n",
       "  </tbody>\n",
       "</table>\n",
       "<p>52681 rows × 4 columns</p>\n",
       "</div>"
      ],
      "text/plain": [
       "        status  num_of_characters  num_of_sentences  \\\n",
       "0      anxiety                 10                 1   \n",
       "1      anxiety                 64                 2   \n",
       "2      anxiety                 78                 2   \n",
       "3      anxiety                 61                 1   \n",
       "4      anxiety                 72                 2   \n",
       "...        ...                ...               ...   \n",
       "53038  anxiety               1766                16   \n",
       "53039  anxiety               1012                12   \n",
       "53040  anxiety                 85                 2   \n",
       "53041  anxiety                401                 6   \n",
       "53042  anxiety                417                 3   \n",
       "\n",
       "                                       cleaned_statement  \n",
       "0                                             oh my gosh  \n",
       "1      troubl sleep confus mind restless heart all ou...  \n",
       "2      all wrong back off dear forward doubt stay in ...  \n",
       "3      i have shift my focu to someth els but i am st...  \n",
       "4      i am restless and restless it is been a month ...  \n",
       "...                                                  ...  \n",
       "53038  nobodi take me serious i have m dealt with dep...  \n",
       "53039  selfish i do not feel veri good it is like i d...  \n",
       "53040  is there ani way to sleep better i can not sle...  \n",
       "53041  public speak tip hi all i have to give a prese...  \n",
       "53042  i have realli bad door anxieti it is not about...  \n",
       "\n",
       "[52681 rows x 4 columns]"
      ]
     },
     "execution_count": 43,
     "metadata": {},
     "output_type": "execute_result"
    }
   ],
   "source": [
    "cleaned_df=df.iloc[:,1:]\n",
    "cleaned_df"
   ]
  },
  {
   "cell_type": "code",
   "execution_count": 45,
   "id": "407a7a5f-1b3d-4840-9c7b-9ef3f9932b45",
   "metadata": {},
   "outputs": [
    {
     "data": {
      "text/plain": [
       "status               0\n",
       "num_of_characters    0\n",
       "num_of_sentences     0\n",
       "cleaned_statement    0\n",
       "dtype: int64"
      ]
     },
     "execution_count": 45,
     "metadata": {},
     "output_type": "execute_result"
    }
   ],
   "source": [
    "cleaned_df.isnull().sum()"
   ]
  },
  {
   "cell_type": "code",
   "execution_count": 47,
   "id": "9d3faa10-6176-45c3-aa15-93530f3501fc",
   "metadata": {},
   "outputs": [],
   "source": [
    "cleaned_df.drop(cleaned_df[cleaned_df['cleaned_statement'].isnull()==True].index,axis=0,inplace=True)"
   ]
  },
  {
   "cell_type": "code",
   "execution_count": 49,
   "id": "d059dc14-bf98-465b-805c-5da69df50649",
   "metadata": {},
   "outputs": [
    {
     "data": {
      "text/plain": [
       "status               0\n",
       "num_of_characters    0\n",
       "num_of_sentences     0\n",
       "cleaned_statement    0\n",
       "dtype: int64"
      ]
     },
     "execution_count": 49,
     "metadata": {},
     "output_type": "execute_result"
    }
   ],
   "source": [
    "cleaned_df.isnull().sum()"
   ]
  },
  {
   "cell_type": "code",
   "execution_count": 51,
   "id": "98935c1b-28e8-4925-bf60-9cbf941a5331",
   "metadata": {},
   "outputs": [],
   "source": [
    "cleaned_df.to_csv(\"cleaned_dataset.csv\",index=False)"
   ]
  },
  {
   "cell_type": "code",
   "execution_count": 53,
   "id": "6cbaec4b-07bc-4a7e-859a-3fa9f440419b",
   "metadata": {},
   "outputs": [
    {
     "data": {
      "text/plain": [
       "array(['anxiety', 'normal', 'depression', 'suicidal', 'stress', 'bipolar',\n",
       "       'personality disorder'], dtype=object)"
      ]
     },
     "execution_count": 53,
     "metadata": {},
     "output_type": "execute_result"
    }
   ],
   "source": [
    "status_unique=cleaned_df['status'].unique()\n",
    "status_unique"
   ]
  },
  {
   "cell_type": "code",
   "execution_count": 55,
   "id": "e7753e32-bf71-40bf-8016-4d3725762ad1",
   "metadata": {},
   "outputs": [
    {
     "data": {
      "text/html": [
       "<div>\n",
       "<style scoped>\n",
       "    .dataframe tbody tr th:only-of-type {\n",
       "        vertical-align: middle;\n",
       "    }\n",
       "\n",
       "    .dataframe tbody tr th {\n",
       "        vertical-align: top;\n",
       "    }\n",
       "\n",
       "    .dataframe thead th {\n",
       "        text-align: right;\n",
       "    }\n",
       "</style>\n",
       "<table border=\"1\" class=\"dataframe\">\n",
       "  <thead>\n",
       "    <tr style=\"text-align: right;\">\n",
       "      <th></th>\n",
       "      <th>status</th>\n",
       "      <th>num_of_characters</th>\n",
       "      <th>num_of_sentences</th>\n",
       "      <th>cleaned_statement</th>\n",
       "    </tr>\n",
       "  </thead>\n",
       "  <tbody>\n",
       "    <tr>\n",
       "      <th>0</th>\n",
       "      <td>anxiety</td>\n",
       "      <td>10</td>\n",
       "      <td>1</td>\n",
       "      <td>oh my gosh</td>\n",
       "    </tr>\n",
       "    <tr>\n",
       "      <th>1</th>\n",
       "      <td>anxiety</td>\n",
       "      <td>64</td>\n",
       "      <td>2</td>\n",
       "      <td>troubl sleep confus mind restless heart all ou...</td>\n",
       "    </tr>\n",
       "    <tr>\n",
       "      <th>2</th>\n",
       "      <td>anxiety</td>\n",
       "      <td>78</td>\n",
       "      <td>2</td>\n",
       "      <td>all wrong back off dear forward doubt stay in ...</td>\n",
       "    </tr>\n",
       "    <tr>\n",
       "      <th>3</th>\n",
       "      <td>anxiety</td>\n",
       "      <td>61</td>\n",
       "      <td>1</td>\n",
       "      <td>i have shift my focu to someth els but i am st...</td>\n",
       "    </tr>\n",
       "    <tr>\n",
       "      <th>4</th>\n",
       "      <td>anxiety</td>\n",
       "      <td>72</td>\n",
       "      <td>2</td>\n",
       "      <td>i am restless and restless it is been a month ...</td>\n",
       "    </tr>\n",
       "    <tr>\n",
       "      <th>...</th>\n",
       "      <td>...</td>\n",
       "      <td>...</td>\n",
       "      <td>...</td>\n",
       "      <td>...</td>\n",
       "    </tr>\n",
       "    <tr>\n",
       "      <th>53038</th>\n",
       "      <td>anxiety</td>\n",
       "      <td>1766</td>\n",
       "      <td>16</td>\n",
       "      <td>nobodi take me serious i have m dealt with dep...</td>\n",
       "    </tr>\n",
       "    <tr>\n",
       "      <th>53039</th>\n",
       "      <td>anxiety</td>\n",
       "      <td>1012</td>\n",
       "      <td>12</td>\n",
       "      <td>selfish i do not feel veri good it is like i d...</td>\n",
       "    </tr>\n",
       "    <tr>\n",
       "      <th>53040</th>\n",
       "      <td>anxiety</td>\n",
       "      <td>85</td>\n",
       "      <td>2</td>\n",
       "      <td>is there ani way to sleep better i can not sle...</td>\n",
       "    </tr>\n",
       "    <tr>\n",
       "      <th>53041</th>\n",
       "      <td>anxiety</td>\n",
       "      <td>401</td>\n",
       "      <td>6</td>\n",
       "      <td>public speak tip hi all i have to give a prese...</td>\n",
       "    </tr>\n",
       "    <tr>\n",
       "      <th>53042</th>\n",
       "      <td>anxiety</td>\n",
       "      <td>417</td>\n",
       "      <td>3</td>\n",
       "      <td>i have realli bad door anxieti it is not about...</td>\n",
       "    </tr>\n",
       "  </tbody>\n",
       "</table>\n",
       "<p>52681 rows × 4 columns</p>\n",
       "</div>"
      ],
      "text/plain": [
       "        status  num_of_characters  num_of_sentences  \\\n",
       "0      anxiety                 10                 1   \n",
       "1      anxiety                 64                 2   \n",
       "2      anxiety                 78                 2   \n",
       "3      anxiety                 61                 1   \n",
       "4      anxiety                 72                 2   \n",
       "...        ...                ...               ...   \n",
       "53038  anxiety               1766                16   \n",
       "53039  anxiety               1012                12   \n",
       "53040  anxiety                 85                 2   \n",
       "53041  anxiety                401                 6   \n",
       "53042  anxiety                417                 3   \n",
       "\n",
       "                                       cleaned_statement  \n",
       "0                                             oh my gosh  \n",
       "1      troubl sleep confus mind restless heart all ou...  \n",
       "2      all wrong back off dear forward doubt stay in ...  \n",
       "3      i have shift my focu to someth els but i am st...  \n",
       "4      i am restless and restless it is been a month ...  \n",
       "...                                                  ...  \n",
       "53038  nobodi take me serious i have m dealt with dep...  \n",
       "53039  selfish i do not feel veri good it is like i d...  \n",
       "53040  is there ani way to sleep better i can not sle...  \n",
       "53041  public speak tip hi all i have to give a prese...  \n",
       "53042  i have realli bad door anxieti it is not about...  \n",
       "\n",
       "[52681 rows x 4 columns]"
      ]
     },
     "execution_count": 55,
     "metadata": {},
     "output_type": "execute_result"
    }
   ],
   "source": [
    "cleaned_df"
   ]
  },
  {
   "cell_type": "code",
   "execution_count": null,
   "id": "56f7ba3d-19dc-4821-a89c-3e2c8d8ec935",
   "metadata": {},
   "outputs": [],
   "source": []
  }
 ],
 "metadata": {
  "kernelspec": {
   "display_name": "Python 3 (ipykernel)",
   "language": "python",
   "name": "python3"
  },
  "language_info": {
   "codemirror_mode": {
    "name": "ipython",
    "version": 3
   },
   "file_extension": ".py",
   "mimetype": "text/x-python",
   "name": "python",
   "nbconvert_exporter": "python",
   "pygments_lexer": "ipython3",
   "version": "3.12.4"
  }
 },
 "nbformat": 4,
 "nbformat_minor": 5
}
